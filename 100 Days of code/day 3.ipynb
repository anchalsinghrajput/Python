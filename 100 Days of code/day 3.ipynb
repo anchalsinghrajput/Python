{
 "cells": [
  {
   "cell_type": "markdown",
   "id": "4bb8960e",
   "metadata": {},
   "source": [
    "### If-else and Conditional Operators\n",
    "#### Even and odd"
   ]
  },
  {
   "cell_type": "code",
   "execution_count": 1,
   "id": "20ae5c93",
   "metadata": {},
   "outputs": [
    {
     "name": "stdout",
     "output_type": "stream",
     "text": [
      "Which number do you want to check? 67\n",
      "This is an odd number.\n"
     ]
    }
   ],
   "source": [
    "number = int(input(\"Which number do you want to check? \"))\n",
    "\n",
    "if number%2==0:\n",
    "  print(\"This is an even number.\")\n",
    "else:\n",
    "  print(\"This is an odd number.\")"
   ]
  },
  {
   "cell_type": "markdown",
   "id": "271138c7",
   "metadata": {},
   "source": [
    "### BMI calculator"
   ]
  },
  {
   "cell_type": "code",
   "execution_count": 2,
   "id": "b15a7cf0",
   "metadata": {},
   "outputs": [
    {
     "name": "stdout",
     "output_type": "stream",
     "text": [
      "enter your height in m: 1.75\n",
      "enter your weight in kg: 85\n",
      "Your BMI is 28, you are slightly overweight.\n"
     ]
    }
   ],
   "source": [
    "height = float(input(\"enter your height in m: \"))\n",
    "weight = float(input(\"enter your weight in kg: \"))\n",
    "\n",
    "result=(round(weight/(height**2)))\n",
    "\n",
    "if result<18.5:\n",
    "  print(f\"Your BMI is {result}, you are underweight.\")\n",
    "elif result<25 :\n",
    "  print(f\"Your BMI is {result}, you have a normal weight.\")\n",
    "elif result<30 :\n",
    "  print(f\"Your BMI is {result}, you are slightly overweight.\")\n",
    "elif result<35:\n",
    "  print(f\"Your BMI is {result}, you are obese.\")\n",
    "else:\n",
    "  print(f\"Your BMI is {result}, you are clinically obese.\")"
   ]
  },
  {
   "cell_type": "markdown",
   "id": "383526b0",
   "metadata": {},
   "source": [
    "### Leap year or not a leap year"
   ]
  },
  {
   "cell_type": "code",
   "execution_count": 5,
   "id": "698a59f8",
   "metadata": {},
   "outputs": [
    {
     "name": "stdout",
     "output_type": "stream",
     "text": [
      "Which year do you want to check? 2000\n",
      "Leap year.\n"
     ]
    }
   ],
   "source": [
    "year = int(input(\"Which year do you want to check? \"))\n",
    "\n",
    "if year%400==0:\n",
    "  print(\"Leap year.\")\n",
    "elif year%4==0 and year%100!=0:\n",
    "  print(\"Leap year.\")\n",
    "else:\n",
    "  print(\"Not leap year.\")"
   ]
  },
  {
   "cell_type": "code",
   "execution_count": 6,
   "id": "a910a320",
   "metadata": {},
   "outputs": [
    {
     "name": "stdout",
     "output_type": "stream",
     "text": [
      "Welcome to Python Pizza Deliveries!\n",
      "What size pizza do you want? S, M, or L L\n",
      "Do you want pepperoni? Y or N Y\n",
      "Do you want extra cheese? Y or N N\n",
      "Your final bill is: 28.\n"
     ]
    }
   ],
   "source": [
    "print(\"Welcome to Python Pizza Deliveries!\")\n",
    "size = input(\"What size pizza do you want? S, M, or L \")\n",
    "add_pepperoni = input(\"Do you want pepperoni? Y or N \")\n",
    "extra_cheese = input(\"Do you want extra cheese? Y or N \")\n",
    "\n",
    "if size=='L':\n",
    "  total=25\n",
    "  if add_pepperoni=='Y':\n",
    "    total=25+3\n",
    "    if extra_cheese=='Y':\n",
    "      total=25+3+1\n",
    "  else:\n",
    "    if extra_cheese=='Y':\n",
    "      total=25+1\n",
    "elif size=='M':\n",
    "  total=20\n",
    "  if add_pepperoni=='Y':\n",
    "    total=20+3\n",
    "    if extra_cheese=='Y':\n",
    "      total=20+3+1\n",
    "  else:\n",
    "    if extra_cheese=='Y':\n",
    "      total=20+1\n",
    "else:\n",
    "  total=15\n",
    "  if add_pepperoni=='Y':\n",
    "    total=15+3\n",
    "    if extra_cheese=='Y':\n",
    "      total=15+3+1\n",
    "  else:\n",
    "    if extra_cheese=='Y':\n",
    "      total=15+1 \n",
    "\n",
    "print(f\"Your final bill is: ${total}.\")\n"
   ]
  },
  {
   "cell_type": "code",
   "execution_count": 20,
   "id": "acc731bc",
   "metadata": {},
   "outputs": [
    {
     "name": "stdout",
     "output_type": "stream",
     "text": [
      "Welcome to Python Pizza Deliveries!\n",
      "What size pizza do you want? S, M, or L L\n",
      "Do you want pepperoni? Y or N Y\n",
      "Do you want extra cheese? Y or N N\n",
      "Your final bill is: $28.\n"
     ]
    }
   ],
   "source": [
    "print(\"Welcome to Python Pizza Deliveries!\")\n",
    "size = input(\"What size pizza do you want? S, M, or L \")\n",
    "add_pepperoni = input(\"Do you want pepperoni? Y or N \")\n",
    "extra_cheese = input(\"Do you want extra cheese? Y or N \")\n",
    "\n",
    "pep=0\n",
    "che=0\n",
    "if size=='L':\n",
    "  bill=25\n",
    "if size=='M':\n",
    "  bill=20\n",
    "if size=='S':\n",
    "  bill=15\n",
    "if add_pepperoni=='Y':\n",
    "  pep=3\n",
    "  if size=='S':\n",
    "    pep=2   \n",
    "if extra_cheese=='Y':\n",
    "  che=1\n",
    "total=bill+pep+che\n",
    "print(f\"Your final bill is: ${total}.\")"
   ]
  },
  {
   "cell_type": "code",
   "execution_count": 22,
   "id": "ed721530",
   "metadata": {},
   "outputs": [
    {
     "name": "stdout",
     "output_type": "stream",
     "text": [
      "Welcome to the Love Calculator!\n",
      "What is your name? \n",
      "Anchal\n",
      "What is their name? \n",
      "Golu\n",
      "Your score is 13.\n"
     ]
    }
   ],
   "source": [
    "print(\"Welcome to the Love Calculator!\")\n",
    "name1 = input(\"What is your name? \\n\")\n",
    "name2 = input(\"What is their name? \\n\")\n",
    "\n",
    "name_c = name1.lower() + name2.lower()\n",
    "\n",
    "t = name_c.count(\"t\")\n",
    "r = name_c.count(\"r\")\n",
    "u = name_c.count(\"u\")\n",
    "e = name_c.count(\"e\")\n",
    "\n",
    "l = name_c.count(\"l\")\n",
    "o = name_c.count(\"o\")\n",
    "v = name_c.count(\"v\")\n",
    "e = name_c.count(\"e\")\n",
    "\n",
    "true = t + r + u + e\n",
    "love = l + o + v + e\n",
    "score = str(true) + str(love)\n",
    "\n",
    "if int(score) < 10 or int(score) > 90:\n",
    "\n",
    "  print(f\"Your score is {score}, you go together like coke and mentos.\")\n",
    "\n",
    "elif 40 < int(score) < 50:\n",
    "\n",
    "  print(f\"Your score is {score}, you are alright together.\")\n",
    "\n",
    "else:\n",
    "\n",
    "  print(f\"Your score is {score}.\")\n"
   ]
  },
  {
   "cell_type": "markdown",
   "id": "8a797c3b",
   "metadata": {},
   "source": [
    "## Day 3 Project Treasure Island"
   ]
  },
  {
   "cell_type": "code",
   "execution_count": 36,
   "id": "54c6495a",
   "metadata": {},
   "outputs": [
    {
     "name": "stdout",
     "output_type": "stream",
     "text": [
      "\n",
      "      __     __\n",
      "     .'  `...'  `.\n",
      "   __|     |     |__\n",
      " .'    \\   .   /    `.\n",
      " |      ./###\\.      |\n",
      "  >---- |#####| ----<\n",
      " |      `\\###/'      |\n",
      " `.__ /    .    \\ __.'\n",
      "    /|     |     |\n",
      "     `.___.^.___.'\n",
      "  \n",
      "    \n",
      "Welcome to Treasure Island.\n",
      "Your mission is to find the treasure.\n",
      "You're at a cross road. Where do yo want to go? Type \"left\" or \"right\"\n",
      "left\n",
      "You come to a lake. There is an island in the middle of the lake. Type \"wait\" to wait for the boat. Type \"swim to swim across\"wait\n",
      "you arrive at the island unharmed. There is a house with 3 doors. One red, one yellow and one blue. Which colour do you choose?yellow\n",
      "You found the treasure . You Win!!\n"
     ]
    }
   ],
   "source": [
    "# below diagram can be found on website https://ascii.co.uk/art\n",
    "print('''\n",
    "      __     __\n",
    "     .'  `...'  `.\n",
    "   __|     |     |__\n",
    " .'    \\   .   /    `.\n",
    " |      ./###\\.      |\n",
    "  >---- |#####| ----<\n",
    " |      `\\###/'      |\n",
    " `.__ /    .    \\ __.'\n",
    "    /|     |     |\n",
    "     `.___.^.___.'\n",
    "  \n",
    "    ''')\n",
    "\n",
    "print(\"Welcome to Treasure Island.\")\n",
    "print(\"Your mission is to find the treasure.\")\n",
    "choice=input('You\\'re at a cross road. Where do yo want to go? Type \"left\" or \"right\"\\n').lower()\n",
    "if choice==\"left\":\n",
    "    mode=input('You come to a lake. There is an island in the middle of the lake. Type \"wait\" to wait for the boat. Type \"swim to swim across\"').lower()\n",
    "    if mode==\"wait\":\n",
    "        colour=input('you arrive at the island unharmed. There is a house with 3 doors. One red, one yellow and one blue. Which colour do you choose?').lower()\n",
    "        if colour == \"yellow\":\n",
    "            print(\"You found the treasure . You Win!!\")\n",
    "        elif colour==\"red\":\n",
    "            print(\"It's a room full of fire. Game Over!!\")\n",
    "        else:\n",
    "            print(\"You enter a room of beast. Game Over!!\")\n",
    "    else:\n",
    "        print(\"You got attacked by an angry trout. Game Over!!\")\n",
    "else:\n",
    "    print(\"You fell into the hole. Game Over!!\")"
   ]
  },
  {
   "cell_type": "code",
   "execution_count": null,
   "id": "e74c6852",
   "metadata": {},
   "outputs": [],
   "source": []
  },
  {
   "cell_type": "code",
   "execution_count": null,
   "id": "92d38e40",
   "metadata": {},
   "outputs": [],
   "source": []
  }
 ],
 "metadata": {
  "kernelspec": {
   "display_name": "Python 3",
   "language": "python",
   "name": "python3"
  },
  "language_info": {
   "codemirror_mode": {
    "name": "ipython",
    "version": 3
   },
   "file_extension": ".py",
   "mimetype": "text/x-python",
   "name": "python",
   "nbconvert_exporter": "python",
   "pygments_lexer": "ipython3",
   "version": "3.8.8"
  }
 },
 "nbformat": 4,
 "nbformat_minor": 5
}
