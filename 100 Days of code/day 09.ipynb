{
 "cells": [
  {
   "cell_type": "markdown",
   "id": "bc31368a",
   "metadata": {},
   "source": [
    "## Dictionaries\n",
    "A dictionary is an unordered and mutable python container that stores mapping of unique keys to values.\n",
    "it is written within curly brackets , including key-value pairs separated by comma. A color : separates each key from its value. "
   ]
  },
  {
   "cell_type": "markdown",
   "id": "ae96dab0",
   "metadata": {},
   "source": [
    "### Creating a dictionary"
   ]
  },
  {
   "cell_type": "code",
   "execution_count": 6,
   "id": "61b70196",
   "metadata": {},
   "outputs": [
    {
     "name": "stdout",
     "output_type": "stream",
     "text": [
      "{'anchal': 'PCMC', 'muskan': 'PCME', 'riya': 'PCMB'}\n"
     ]
    }
   ],
   "source": [
    "student_department={\"anchal\":\"PCMC\",\"muskan\":\"PCME\",\"riya\":\"PCMB\"}\n",
    "print(student_department)"
   ]
  },
  {
   "cell_type": "code",
   "execution_count": 2,
   "id": "53dc8f25",
   "metadata": {},
   "outputs": [
    {
     "name": "stdout",
     "output_type": "stream",
     "text": [
      "{'Amanda': 27, 'Teresa': 30, 'Paula': 17}\n"
     ]
    }
   ],
   "source": [
    "student_ages=dict(Amanda=27,Teresa=30,Paula=17)\n",
    "print(student_ages)"
   ]
  },
  {
   "cell_type": "code",
   "execution_count": 7,
   "id": "107ef70c",
   "metadata": {},
   "outputs": [
    {
     "name": "stdout",
     "output_type": "stream",
     "text": [
      "3748148\n"
     ]
    }
   ],
   "source": [
    "population={'Berlin':3748148,'Munich':1471508,'Humburg':1822445,'Cologne':1085664,'Frankfurt':753056}\n",
    "print(population[\"Berlin\"])"
   ]
  },
  {
   "cell_type": "code",
   "execution_count": 8,
   "id": "1d4140d7",
   "metadata": {},
   "outputs": [
    {
     "name": "stdout",
     "output_type": "stream",
     "text": [
      "B\n"
     ]
    }
   ],
   "source": [
    "asci={65:'A',68:'B',90:'Z',97:'a',98:'b',122:'z'}\n",
    "print(asci[68])"
   ]
  },
  {
   "cell_type": "code",
   "execution_count": 5,
   "id": "5a87bcff",
   "metadata": {},
   "outputs": [
    {
     "name": "stdout",
     "output_type": "stream",
     "text": [
      "{'anchal': 19, 'chanchal': 13, 'Amanda': 27, 'Teresa': 30, 'Paula': 17}\n"
     ]
    }
   ],
   "source": [
    "student_ages=dict({'anchal':19,'chanchal':13},Amanda=27,Teresa=30,Paula=17)\n",
    "print(student_ages)"
   ]
  },
  {
   "cell_type": "markdown",
   "id": "a535d4e7",
   "metadata": {},
   "source": [
    "### Adding new data into the dictionary"
   ]
  },
  {
   "cell_type": "code",
   "execution_count": 9,
   "id": "749c3dc3",
   "metadata": {},
   "outputs": [
    {
     "name": "stdout",
     "output_type": "stream",
     "text": [
      "{'anchal': 'PCMC', 'muskan': 'PCME', 'riya': 'PCMB', 'Rajveer': 'CSE'}\n"
     ]
    }
   ],
   "source": [
    "student_department={\"anchal\":\"PCMC\",\"muskan\":\"PCME\",\"riya\":\"PCMB\"}\n",
    "student_department[\"Rajveer\"]=\"CSE\"\n",
    "print(student_department)"
   ]
  },
  {
   "cell_type": "markdown",
   "id": "e942c56f",
   "metadata": {},
   "source": [
    "### Creating empty dictionary"
   ]
  },
  {
   "cell_type": "code",
   "execution_count": null,
   "id": "ab8c54ec",
   "metadata": {},
   "outputs": [],
   "source": [
    "empty_dictionary = {}"
   ]
  },
  {
   "cell_type": "markdown",
   "id": "fea4a57e",
   "metadata": {},
   "source": [
    "### Wiping whole dictionary"
   ]
  },
  {
   "cell_type": "code",
   "execution_count": 41,
   "id": "a278048f",
   "metadata": {},
   "outputs": [
    {
     "name": "stdout",
     "output_type": "stream",
     "text": [
      "{65: 'A', 68: 'B', 90: 'Z', 97: 'a', 98: 'b', 122: 'z'}\n",
      "{}\n"
     ]
    }
   ],
   "source": [
    "asci={65:'A',68:'B',90:'Z',97:'a',98:'b',122:'z'}\n",
    "print(asci)\n",
    "asci={}\n",
    "print(asci)"
   ]
  },
  {
   "cell_type": "markdown",
   "id": "be78073c",
   "metadata": {},
   "source": [
    "### Deleting item from dictionary"
   ]
  },
  {
   "cell_type": "markdown",
   "id": "6c391d40",
   "metadata": {},
   "source": [
    "asci={65:'A',68:'B',90:'Z',97:'a',98:'b',122:'z'}\n",
    "a=asci.pop(68,None)\n",
    "print(a)\n",
    "print(asci)"
   ]
  },
  {
   "cell_type": "markdown",
   "id": "3543ad12",
   "metadata": {},
   "source": [
    "### Edit an item in the dictionary"
   ]
  },
  {
   "cell_type": "code",
   "execution_count": 14,
   "id": "b3709ef6",
   "metadata": {},
   "outputs": [
    {
     "name": "stdout",
     "output_type": "stream",
     "text": [
      "{'Amanda': 27, 'Teresa': 30, 'Paula': 17}\n",
      "{'Amanda': 20, 'Teresa': 30, 'Paula': 17}\n"
     ]
    }
   ],
   "source": [
    "student_ages=dict(Amanda=27,Teresa=30,Paula=17)\n",
    "print(student_ages)\n",
    "student_ages[\"Amanda\"]=20\n",
    "print(student_ages)"
   ]
  },
  {
   "cell_type": "markdown",
   "id": "49a9fe51",
   "metadata": {},
   "source": [
    "### Traversing trough dictionary"
   ]
  },
  {
   "cell_type": "code",
   "execution_count": 15,
   "id": "a8ad5764",
   "metadata": {},
   "outputs": [
    {
     "name": "stdout",
     "output_type": "stream",
     "text": [
      "65\n",
      "68\n",
      "90\n",
      "97\n",
      "98\n",
      "122\n"
     ]
    }
   ],
   "source": [
    "asci={65:'A',68:'B',90:'Z',97:'a',98:'b',122:'z'}\n",
    "\n",
    "for asci_character in asci:\n",
    "    print(asci_character)"
   ]
  },
  {
   "cell_type": "code",
   "execution_count": 16,
   "id": "89963653",
   "metadata": {},
   "outputs": [
    {
     "name": "stdout",
     "output_type": "stream",
     "text": [
      "65\n",
      "A\n",
      "68\n",
      "B\n",
      "90\n",
      "Z\n",
      "97\n",
      "a\n",
      "98\n",
      "b\n",
      "122\n",
      "z\n"
     ]
    }
   ],
   "source": [
    "asci={65:'A',68:'B',90:'Z',97:'a',98:'b',122:'z'}\n",
    "\n",
    "for key in asci:\n",
    "    print(key)\n",
    "    print(asci[key])"
   ]
  },
  {
   "cell_type": "code",
   "execution_count": 18,
   "id": "07b9d366",
   "metadata": {},
   "outputs": [
    {
     "name": "stdout",
     "output_type": "stream",
     "text": [
      "65 : A\n",
      "68 : B\n",
      "90 : Z\n",
      "97 : a\n",
      "98 : b\n",
      "122 : z\n"
     ]
    }
   ],
   "source": [
    "asci={65:'A',68:'B',90:'Z',97:'a',98:'b',122:'z'}\n",
    "\n",
    "for key in asci:\n",
    "    print(f\"{key} : {asci[key]}\")"
   ]
  },
  {
   "cell_type": "markdown",
   "id": "94759891",
   "metadata": {},
   "source": [
    "## Write a program that converts their scores to grades. \n",
    "\n",
    "Scores 91 - 100: Grade = \"Outstanding\"\n",
    "\n",
    "Scores 81 - 90: Grade = \"Exceeds Expectations\"\n",
    "\n",
    "Scores 71 - 80: Grade = \"Acceptable\"\n",
    "\n",
    "Scores 70 or lower: Grade = \"Fail\""
   ]
  },
  {
   "cell_type": "code",
   "execution_count": 19,
   "id": "dc74c9a5",
   "metadata": {},
   "outputs": [
    {
     "name": "stdout",
     "output_type": "stream",
     "text": [
      "{'Harry': 'Exceeds Expectations', 'Ron': 'Acceptable', 'Hermione': 'Outstanding', 'Draco': 'Acceptable', 'Neville': 'Fail'}\n"
     ]
    }
   ],
   "source": [
    "student_scores = {\n",
    "  \"Harry\": 81,\n",
    "  \"Ron\": 78,\n",
    "  \"Hermione\": 99, \n",
    "  \"Draco\": 74,\n",
    "  \"Neville\": 62,\n",
    "}\n",
    "\n",
    "student_grades = {}\n",
    "\n",
    "for student in student_scores:\n",
    "  score = student_scores[student]\n",
    "  if score > 90:\n",
    "    student_grades[student] = \"Outstanding\"\n",
    "  elif score > 80:\n",
    "    student_grades[student] = \"Exceeds Expectations\"\n",
    "  elif score > 70:\n",
    "    student_grades[student] = \"Acceptable\"\n",
    "  else:\n",
    "    student_grades[student] = \"Fail\"\n",
    "    \n",
    "print(student_grades)\n"
   ]
  },
  {
   "cell_type": "markdown",
   "id": "6360525d",
   "metadata": {},
   "source": [
    "## Nesting List and Dictionary"
   ]
  },
  {
   "cell_type": "code",
   "execution_count": 29,
   "id": "076dfce8",
   "metadata": {},
   "outputs": [
    {
     "name": "stdout",
     "output_type": "stream",
     "text": [
      "{'Indian_territories': ['Andaman And nikobar', 'Delhi', 'jammu and kashmir', 'pudducherry'], 'Indian_state': ['Karnataka', 'uttar pradesh', 'maharastra']}\n",
      "\n",
      "uttar pradesh\n"
     ]
    }
   ],
   "source": [
    "# Nesting list into dictionary\n",
    "about_india={\"Indian_territories\":[\"Andaman And nikobar\",\"Delhi\",\"jammu and kashmir\",\"pudducherry\"],\n",
    "            \"Indian_state\":[\"Karnataka\",\"uttar pradesh\",\"maharastra\"]}\n",
    "\n",
    "print(about_india)\n",
    "print(\"\")\n",
    "print(about_india[\"Indian_state\"][1])"
   ]
  },
  {
   "cell_type": "code",
   "execution_count": 23,
   "id": "4c9af520",
   "metadata": {},
   "outputs": [
    {
     "name": "stdout",
     "output_type": "stream",
     "text": [
      "{'Science': {'social science': 'About the real life senerio and society', 'science': 'About the world beyound us'}, 'Maths': 'Patterns'}\n"
     ]
    }
   ],
   "source": [
    "# Nesting dictionary into dictionary\n",
    "subjects={\"Science\":{\"social science\":\"About the real life senerio and society\",\"science\":\"About the world beyound us\"},\n",
    "          \"Maths\":\"Patterns\"}\n",
    "print(subjects)"
   ]
  },
  {
   "cell_type": "code",
   "execution_count": 28,
   "id": "03781596",
   "metadata": {},
   "outputs": [
    {
     "name": "stdout",
     "output_type": "stream",
     "text": [
      "Mrs. Jackson, aged 57, lives in Denver.\n"
     ]
    }
   ],
   "source": [
    "worker = {\"name\": {\"first\": \"Jane\", \"last\": \"Jackson\"},\n",
    "          \"address\": {\"country\": \"USA\", \"city\": \"Denver\"},\n",
    "          \"age\": 57}\n",
    "\n",
    "print(f'Mrs. {worker[\"name\"][\"last\"]}, aged {worker[\"age\"]}, lives in {worker[\"address\"][\"city\"]}.')"
   ]
  },
  {
   "cell_type": "code",
   "execution_count": 24,
   "id": "077242cd",
   "metadata": {},
   "outputs": [
    {
     "name": "stdout",
     "output_type": "stream",
     "text": [
      "{'species': {'english': 'wolf', 'latin': 'Canis lupus'}, 'class': 'mammals', 'habitats': ['forests', 'tundras', 'grasslands'], 'dimensions': {'body': {'length': 150, 'height': 80}, 'tail': {'length': 40}}}\n"
     ]
    }
   ],
   "source": [
    "# Nesting both list and dictioary into the dictionary\n",
    "animals = {\"species\": {\"english\": \"wolf\", \"latin\": \"Canis lupus\"},\n",
    "           \"class\": \"mammals\",\n",
    "           \"habitats\": [\"forests\", \"tundras\", \"grasslands\"],\n",
    "           \"dimensions\": {\"body\": {\"length\": 150, \"height\": 80},\n",
    "                          \"tail\": {\"length\": 40}}}\n",
    "print(animals)"
   ]
  },
  {
   "cell_type": "code",
   "execution_count": 25,
   "id": "8468bb2e",
   "metadata": {},
   "outputs": [
    {
     "name": "stdout",
     "output_type": "stream",
     "text": [
      "Latin name: Canis lupus\n",
      "Class: mammals\n",
      "Main habitat: forests\n",
      "Body height: 80\n"
     ]
    }
   ],
   "source": [
    "print(\"Latin name: \" + animals[\"species\"][\"latin\"])\n",
    "print(\"Class: \" + animals[\"class\"])\n",
    "print(\"Main habitat: \" + animals[\"habitats\"][0])\n",
    "print(\"Body height: \" + str(animals[\"dimensions\"][\"body\"][\"height\"]))"
   ]
  },
  {
   "cell_type": "code",
   "execution_count": 26,
   "id": "f448f8de",
   "metadata": {},
   "outputs": [
    {
     "name": "stdout",
     "output_type": "stream",
     "text": [
      "Names: {'english': 'wolf', 'latin': 'Canis lupus', 'french': 'loup'}\n",
      "Habitats: ['forests', 'tundras', 'grasslands', 'deserts']\n",
      "Tail length: 60.0\n"
     ]
    }
   ],
   "source": [
    "animals = {\"species\": {\"english\": \"wolf\", \"latin\": \"Canis lupus\"},\n",
    "           \"class\": \"mammals\",\n",
    "           \"habitats\": [\"forests\", \"tundras\", \"grasslands\"],\n",
    "           \"dimensions\": {\"body\": {\"length\": 150, \"height\": 80},\n",
    "                          \"tail\": {\"length\": 40}}}\n",
    "\n",
    "animals[\"species\"][\"french\"] = \"loup\"  # add element to dictionary\n",
    "animals[\"habitats\"].append(\"deserts\")  # append to list\n",
    "animals[\"dimensions\"][\"tail\"][\"length\"] *= 1.5 # augmented assignment\n",
    "\n",
    "print(\"Names: \" + str(animals[\"species\"]))\n",
    "print(\"Habitats: \" + str(animals[\"habitats\"]))\n",
    "print(\"Tail length: \" + str(animals[\"dimensions\"][\"tail\"][\"length\"]))"
   ]
  },
  {
   "cell_type": "code",
   "execution_count": 34,
   "id": "549530cf",
   "metadata": {},
   "outputs": [
    {
     "name": "stdout",
     "output_type": "stream",
     "text": [
      "France\n",
      "stuttgart\n",
      "5\n"
     ]
    }
   ],
   "source": [
    "# Nesting dictionary into list\n",
    "travel_log=[\n",
    "    {\n",
    "     \"country\":\"France\",\n",
    "     \"city visited\":[\"paris\",\"lille\",\"dijon\"],\n",
    "     \"total_visits\":12\n",
    "    },\n",
    "    {\n",
    "     \"country\":\"germany\",\n",
    "     \"city visited\":[\"berlin\",\"hamburg\",\"stuttgart\"],\n",
    "     \"total_visits\":5\n",
    "    }\n",
    "]\n",
    "print(travel_log[0][\"country\"])\n",
    "print(travel_log[1][\"city visited\"][2])\n",
    "print(travel_log[1][\"total_visits\"])"
   ]
  },
  {
   "cell_type": "code",
   "execution_count": 40,
   "id": "489d3ea4",
   "metadata": {},
   "outputs": [],
   "source": [
    "travel_log = [\n",
    "{\n",
    "  \"country\": \"France\",\n",
    "  \"visits\": 12,\n",
    "  \"cities\": [\"Paris\", \"Lille\", \"Dijon\"]\n",
    "},\n",
    "{\n",
    "  \"country\": \"Germany\",\n",
    "  \"visits\": 5,\n",
    "  \"cities\": [\"Berlin\", \"Hamburg\", \"Stuttgart\"]\n",
    "},\n",
    "]\n",
    "def add_new_country(name,visits,cities):\n",
    "  travel_log.append({\"country\":name,\"visits\":visits,\"cities\":cities})\n",
    "\n",
    "# or\n",
    "\n",
    "# def add_new_country(name, visit_count, cities_visited):\n",
    "#   new_country = {}\n",
    "#   new_country[\"country\"] = name\n",
    "#   new_country[\"visits\"] = visit_count\n",
    "#   new_country[\"cities\"] = cities_visited\n",
    "#   travel_log.append(new_country)\n",
    "\n",
    "add_new_country(\"Russia\", 2, [\"Moscow\", \"Saint Petersburg\"])\n",
    "print(travel_log)"
   ]
  },
  {
   "cell_type": "markdown",
   "id": "c1cb4e21",
   "metadata": {},
   "source": [
    "### Day 9 project\n",
    "# Secret Auction Program"
   ]
  },
  {
   "cell_type": "code",
   "execution_count": 21,
   "id": "cacdb104",
   "metadata": {},
   "outputs": [
    {
     "name": "stdout",
     "output_type": "stream",
     "text": [
      "what is your name? shubh\n",
      "What is your bid? $98\n",
      "Are there any other bidders? Type 'yes' or 'no' \n",
      "no\n",
      "The winner is shubh with a bid of $98\n"
     ]
    }
   ],
   "source": [
    "from IPython.display import clear_output\n",
    "\n",
    "print('''\n",
    "                         ___________\n",
    "                         \\         /\n",
    "                          )_______(\n",
    "                          |\"\"\"\"\"\"\"|_.-._,.---------.,_.-._\n",
    "                          |       | | |               | | ''-.\n",
    "                          |       |_| |_             _| |_..-'\n",
    "                          |_______| '-' `'---------'` '-'\n",
    "                          )\"\"\"\"\"\"\"(\n",
    "                         /_________\\\n",
    "                         \n",
    "                       .-------------.\n",
    "''')\n",
    "def highest_bid(bid_list):\n",
    "    high_bid=0\n",
    "    winner=\"\"\n",
    "    for bidder in bid_list:\n",
    "        if high_bid<bid_list[bidder]:\n",
    "            high_bid = bid_list[bidder]\n",
    "            winner=bidder\n",
    "    print(f\"The winner is {winner} with a bid of ${high_bid}\")\n",
    "\n",
    "bid={}\n",
    "Continue = True\n",
    "while Continue:\n",
    "    name=input(\"what is your name? \")\n",
    "    price=int(input(\"What is your bid? $\"))\n",
    "    bid[name] = price\n",
    "    should_continue=input(\"Are there any other bidders? Type 'yes' or 'no' \\n\").lower()\n",
    "    if should_continue == \"no\":\n",
    "        Continue=False\n",
    "        highest_bid(bid)\n",
    "    elif should_continue==\"yes\":\n",
    "        clear_output(wait=True)"
   ]
  },
  {
   "cell_type": "code",
   "execution_count": null,
   "id": "e4388488",
   "metadata": {},
   "outputs": [],
   "source": []
  }
 ],
 "metadata": {
  "kernelspec": {
   "display_name": "Python 3",
   "language": "python",
   "name": "python3"
  },
  "language_info": {
   "codemirror_mode": {
    "name": "ipython",
    "version": 3
   },
   "file_extension": ".py",
   "mimetype": "text/x-python",
   "name": "python",
   "nbconvert_exporter": "python",
   "pygments_lexer": "ipython3",
   "version": "3.8.8"
  }
 },
 "nbformat": 4,
 "nbformat_minor": 5
}
