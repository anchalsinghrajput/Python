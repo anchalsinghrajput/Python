{
 "cells": [
  {
   "cell_type": "markdown",
   "id": "4dfd0977",
   "metadata": {},
   "source": [
    "## Randomness"
   ]
  },
  {
   "cell_type": "code",
   "execution_count": 14,
   "id": "f8f1d9fb",
   "metadata": {},
   "outputs": [
    {
     "name": "stdout",
     "output_type": "stream",
     "text": [
      "105\n",
      "0.9424820916906895\n",
      "4.712410458453448\n"
     ]
    }
   ],
   "source": [
    "import random \n",
    "\n",
    "random_integer=random.randint(100,200) #Integer b/w 100 and 200 , including 100 and 200\n",
    "print(random_integer) \n",
    "\n",
    "# 0.00000000000 to 0.9999999999999999\n",
    "random_float=random.random() #random flaot b/w 0 and 1 , but not including 1\n",
    "print(random_float)\n",
    "\n",
    "#0.00000000000 to 4.99999999999999\n",
    "a=random_float*5\n",
    "print(a)"
   ]
  },
  {
   "cell_type": "markdown",
   "id": "eef0db1c",
   "metadata": {},
   "source": [
    "### Randomly generate heads and tails"
   ]
  },
  {
   "cell_type": "code",
   "execution_count": 15,
   "id": "d6998d57",
   "metadata": {},
   "outputs": [
    {
     "name": "stdout",
     "output_type": "stream",
     "text": [
      "Heads\n"
     ]
    }
   ],
   "source": [
    "import random\n",
    "\n",
    "a=random.randint(0,1)\n",
    "\n",
    "if a==0:\n",
    "  print(\"Heads\")\n",
    "else:\n",
    "  print(\"Tails\")"
   ]
  },
  {
   "cell_type": "markdown",
   "id": "23fd18aa",
   "metadata": {},
   "source": [
    "# List"
   ]
  },
  {
   "cell_type": "code",
   "execution_count": 24,
   "id": "20c95aba",
   "metadata": {},
   "outputs": [
    {
     "name": "stdout",
     "output_type": "stream",
     "text": [
      "['apple', 'banana', 'kiwi', 'papaya', 'guava']\n",
      "banana\n",
      "guava\n",
      "['apple', 'mango', 'kiwi', 'papaya', 'guava']\n",
      "['apple', 'mango', 'kiwi', 'papaya', 'guava', 'orange']\n",
      "['apple', 'mango', 'kiwi', 'papaya', 'guava', 'orange', 'strawberry', 'pineapple', 'pear', 'grapes']\n"
     ]
    }
   ],
   "source": [
    "fruits=[\"apple\",\"banana\",\"kiwi\",\"papaya\",\"guava\"]\n",
    "print(fruits)\n",
    "\n",
    "print(fruits[1])\n",
    "print(fruits[-1]) \n",
    "\n",
    "fruits[1]=\"mango\"\n",
    "print(fruits)\n",
    "\n",
    "fruits.append(\"orange\")\n",
    "print(fruits)\n",
    "\n",
    "fruits.extend([\"strawberry\",\"pineapple\",\"pear\",\"grapes\"])\n",
    "print(fruits)"
   ]
  },
  {
   "cell_type": "code",
   "execution_count": 26,
   "id": "5f310b83",
   "metadata": {},
   "outputs": [
    {
     "name": "stdout",
     "output_type": "stream",
     "text": [
      "Give me everybody's names, separated by a comma. anchal, aman, cha, raj\n",
      "raj is going to buy the meal today!\n"
     ]
    }
   ],
   "source": [
    "# Split string method\n",
    "names_string = input(\"Give me everybody's names, separated by a comma. \")\n",
    "names = names_string.split(\", \")\n",
    "\n",
    "import random\n",
    "random_int=random.randint(0,len(names)-1)\n",
    "\n",
    "print(f\"{names[random_int]} is going to buy the meal today!\")\n"
   ]
  },
  {
   "cell_type": "markdown",
   "id": "397ecffb",
   "metadata": {},
   "source": [
    "## Nested list\n",
    "List within a list"
   ]
  },
  {
   "cell_type": "code",
   "execution_count": 29,
   "id": "cd32e6d8",
   "metadata": {},
   "outputs": [
    {
     "name": "stdout",
     "output_type": "stream",
     "text": [
      "([1, 2, 3, 4, 5], [1.5, 2.6, 6.8])\n",
      "[['anchal', 19], ['chanchal', 13], ['rajveer', 8]]\n"
     ]
    }
   ],
   "source": [
    "integer = [1,2,3,4,5]\n",
    "floating = [1.5,2.6,6.8]\n",
    "\n",
    "number=(integer,floating)\n",
    "print(number)\n",
    "\n",
    "student_with_age=[[\"anchal\",19],[\"chanchal\",13],[\"rajveer\",8]]\n",
    "print(student_with_age)"
   ]
  },
  {
   "cell_type": "code",
   "execution_count": 31,
   "id": "2d6d4886",
   "metadata": {},
   "outputs": [
    {
     "name": "stdout",
     "output_type": "stream",
     "text": [
      "['⬜️', '⬜️', '⬜️']\n",
      "['⬜️', '⬜️', '⬜️']\n",
      "['⬜️', '⬜️', '⬜️']\n",
      "Where do you want to put the treasure? 23\n",
      "['⬜️', '⬜️', '⬜️']\n",
      "['⬜️', '⬜️', '⬜️']\n",
      "['⬜️', 'X', '⬜️']\n"
     ]
    }
   ],
   "source": [
    "row1 = [\"⬜️\",\"⬜️\",\"⬜️\"]\n",
    "row2 = [\"⬜️\",\"⬜️\",\"⬜️\"]\n",
    "row3 = [\"⬜️\",\"⬜️\",\"⬜️\"]\n",
    "map = [row1, row2, row3]\n",
    "print(f\"{row1}\\n{row2}\\n{row3}\")\n",
    "position = input(\"Where do you want to put the treasure? \")\n",
    "\n",
    "first_pos=int(position[0])-1\n",
    "second_pos=int(position[1])-1\n",
    "map[second_pos][first_pos]=\"X\"\n",
    "\n",
    "print(f\"{row1}\\n{row2}\\n{row3}\")"
   ]
  },
  {
   "cell_type": "markdown",
   "id": "892c16ee",
   "metadata": {},
   "source": [
    "## Day 4 Project , Rock Paper Scissors"
   ]
  },
  {
   "cell_type": "code",
   "execution_count": 48,
   "id": "d32ac7ce",
   "metadata": {},
   "outputs": [
    {
     "name": "stdout",
     "output_type": "stream",
     "text": [
      "Welcome to rock, paper, scissor game!!\n",
      "What do you choose? Type 0 for Rock, 1 for Paper or 2 for Scissors ?\n",
      "1\n",
      "You chose : \n",
      "\n",
      "     _______\n",
      "---'    ____)____\n",
      "           ______)\n",
      "          _______)\n",
      "         _______)\n",
      "---.__________)\n",
      "\n",
      "Computer chose : \n",
      "\n",
      "    _______\n",
      "---'   ____)____\n",
      "          ______)\n",
      "       __________)\n",
      "      (____)\n",
      "---.__(___)\n",
      "\n",
      "Computer Win!!\n"
     ]
    }
   ],
   "source": [
    "print(\"Welcome to rock, paper, scissor game!!\")\n",
    "\n",
    "rock=\"\"\"\n",
    "    _______\n",
    "---'   ____)\n",
    "      (_____)\n",
    "      (_____)\n",
    "      (____)\n",
    "---.__(___)\n",
    "\"\"\"\n",
    "\n",
    "paper= \"\"\"\n",
    "     _______\n",
    "---'    ____)____\n",
    "           ______)\n",
    "          _______)\n",
    "         _______)\n",
    "---.__________)\n",
    "\"\"\"\n",
    "scissor=\"\"\"\n",
    "    _______\n",
    "---'   ____)____\n",
    "          ______)\n",
    "       __________)\n",
    "      (____)\n",
    "---.__(___)\n",
    "\"\"\"\n",
    "\n",
    "image=[rock,paper,scissor]\n",
    "\n",
    "# TAKING USER CHOICE\n",
    "user_choice=int(input(\"What do you choose? Type 0 for Rock, 1 for Paper or 2 for Scissors ?\\n\"))\n",
    "\n",
    "# PRINTING USER CHOICE\n",
    "print(\"You chose : \\n\"+image[user_choice])\n",
    "\n",
    "# GENERATIG RANDOM NUMBER FROM 0 TO 2\n",
    "import random\n",
    "computer_choice=random.randint(0,2)\n",
    "\n",
    "# PRINTING COMPUTER CHOICE\n",
    "print(\"Computer chose : \\n\"+image[computer_choice])\n",
    "\n",
    "# COMPUTING WHO WINS\n",
    "if user_choice>2 or user_choice<0:\n",
    "    print(\"Please Enter correct input.\")\n",
    "elif user_choice==computer_choice:\n",
    "    print(\"Oh! it's a tie.\")\n",
    "elif user_choice==0 and computer_choice==2:\n",
    "    print(\"User Win!!\")\n",
    "elif user_choice==2 and computer_choice==0:\n",
    "    print(\"Computer Win\")\n",
    "elif(user_choice>computer_choice):\n",
    "    print(\"User Win!!\")\n",
    "else:\n",
    "    print(\"Computer Win!!\")\n",
    "    \n",
    "    \n",
    " "
   ]
  },
  {
   "cell_type": "code",
   "execution_count": null,
   "id": "567eafd8",
   "metadata": {},
   "outputs": [],
   "source": []
  },
  {
   "cell_type": "code",
   "execution_count": null,
   "id": "a8546621",
   "metadata": {},
   "outputs": [],
   "source": []
  }
 ],
 "metadata": {
  "kernelspec": {
   "display_name": "Python 3",
   "language": "python",
   "name": "python3"
  },
  "language_info": {
   "codemirror_mode": {
    "name": "ipython",
    "version": 3
   },
   "file_extension": ".py",
   "mimetype": "text/x-python",
   "name": "python",
   "nbconvert_exporter": "python",
   "pygments_lexer": "ipython3",
   "version": "3.8.8"
  }
 },
 "nbformat": 4,
 "nbformat_minor": 5
}
