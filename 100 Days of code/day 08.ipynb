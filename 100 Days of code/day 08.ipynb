{
 "cells": [
  {
   "cell_type": "markdown",
   "id": "85826d2e",
   "metadata": {},
   "source": [
    "## Function with inputs"
   ]
  },
  {
   "cell_type": "code",
   "execution_count": 3,
   "id": "b32cff65",
   "metadata": {},
   "outputs": [
    {
     "name": "stdout",
     "output_type": "stream",
     "text": [
      "Hello !!\n",
      "Anchal\n",
      "How do you do ?\n"
     ]
    }
   ],
   "source": [
    "def greet():\n",
    "    print(\"Hello !!\")\n",
    "    print(\"Anchal\")\n",
    "    print(\"How do you do ?\")\n",
    "greet()"
   ]
  },
  {
   "cell_type": "code",
   "execution_count": 4,
   "id": "5dde995e",
   "metadata": {},
   "outputs": [
    {
     "name": "stdout",
     "output_type": "stream",
     "text": [
      "Hello !! Anchal\n",
      "How do you do?\n"
     ]
    }
   ],
   "source": [
    "def greet(name):\n",
    "    print(f\"Hello !! {name}\")\n",
    "    print(\"How do you do?\")\n",
    "greet(\"Anchal\")"
   ]
  },
  {
   "cell_type": "markdown",
   "id": "746133e4",
   "metadata": {},
   "source": [
    "## Positional vs. Keyword"
   ]
  },
  {
   "cell_type": "code",
   "execution_count": 9,
   "id": "664da222",
   "metadata": {},
   "outputs": [
    {
     "name": "stdout",
     "output_type": "stream",
     "text": [
      "Hello !! Anchal\n",
      "Where do you live in Uttar Pradesh?\n",
      "Hello !! Uttar Pradesh\n",
      "Where do you live in Anchal?\n",
      "Hello !! Anchal\n",
      "Where do you live in Uttar Pradesh?\n"
     ]
    }
   ],
   "source": [
    "def greet(name,location):\n",
    "    print(f\"Hello !! {name}\")\n",
    "    print(f\"Where do you live in {location}?\")\n",
    "greet(\"Anchal\",\"Uttar Pradesh\")\n",
    "\n",
    "#first argument in the calling function is going to get copy into the first positioned argument in the function definition\n",
    "greet(\"Uttar Pradesh\",\"Anchal\")\n",
    "\n",
    "#to avoid the above inconvenience we use keyword in calling argument\n",
    "greet(location=\"Uttar Pradesh\",name=\"Anchal\")"
   ]
  },
  {
   "cell_type": "markdown",
   "id": "81c9a937",
   "metadata": {},
   "source": [
    "## math.ceil\n",
    "You are painting a wall. The instructions on the paint can says that 1 can of paint can cover 5 square meters of wall. Given a random height and width of wall, calculate how many cans of paint you'll need to buy.\n",
    "\n",
    "number of cans = (wall height ✖️ wall width) ÷ coverage per can.\n",
    "\n",
    "e.g. Height = 2, Width = 4, Coverage = 5\n",
    "\n",
    "number of cans = (2 ✖️ 4) ÷ 5\n",
    "                     = 1.6\n",
    "              \n",
    "But because you can't buy 0.6 of a can of paint, the result should be rounded up to 2 cans."
   ]
  },
  {
   "cell_type": "code",
   "execution_count": null,
   "id": "d7f493b2",
   "metadata": {},
   "outputs": [],
   "source": [
    "import math\n",
    "\n",
    "def paint_calc(height, width, cover):\n",
    "    num_cans = (height * width) / cover\n",
    "    round_up_cans = math.ceil(num_cans)\n",
    "    print(f\"You'll need {round_up_cans} cans of paint.\")\n",
    "    \n",
    "test_h = int(input(\"Height of wall: \"))\n",
    "test_w = int(input(\"Width of wall: \"))\n",
    "coverage = 5\n",
    "paint_calc(height=test_h, width=test_w, cover=coverage)"
   ]
  },
  {
   "cell_type": "markdown",
   "id": "9b149cc2",
   "metadata": {},
   "source": [
    "## Isprime"
   ]
  },
  {
   "cell_type": "code",
   "execution_count": 10,
   "id": "1eeccd74",
   "metadata": {},
   "outputs": [
    {
     "name": "stdout",
     "output_type": "stream",
     "text": [
      "Check this number: 89\n",
      "It's a prime number.\n"
     ]
    }
   ],
   "source": [
    "import math\n",
    "def prime_checker(number):\n",
    "  flag=0\n",
    "  for i in range(2,round(math.sqrt(number))):\n",
    "    if number==2:\n",
    "      break\n",
    "    elif number%i==0:\n",
    "      flag=1\n",
    "\n",
    "  if flag==1:\n",
    "    print(\"It's not a prime number.\")\n",
    "  else:\n",
    "    print(\"It's a prime number.\")\n",
    "\n",
    "n = int(input(\"Check this number: \"))\n",
    "prime_checker(number=n)\n"
   ]
  },
  {
   "cell_type": "markdown",
   "id": "7bcddfc2",
   "metadata": {},
   "source": [
    "## Day 8 Project\n",
    "# Caesar Cipher"
   ]
  },
  {
   "cell_type": "code",
   "execution_count": 23,
   "id": "78b63d3b",
   "metadata": {},
   "outputs": [
    {
     "name": "stdout",
     "output_type": "stream",
     "text": [
      "░C░a░e░s░a░r░ ░C░i░p░h░e░r░\n",
      "Type 'encode' to encrypt and 'decode' to decrypt :\n",
      "decode\n",
      "Type your message :\n",
      "mjrru fthmfr\n",
      "Type the shift number :\n",
      "5\n",
      "Decrypted message is :  hello anchal\n"
     ]
    }
   ],
   "source": [
    "list=['a','b','c','d','e','f','g','h','i','j','k','l','m','n','o','p','r','s','t','u','v','w','x','y','z','a','b','c','d','e','f','g','h','i','j','k','l','m','n','o','p','r','s','t','u','v','w','x','y','z']\n",
    "def encrypt(msg,shift):\n",
    "    encryptedMsg=\"\"\n",
    "    for letter in msg:\n",
    "        if letter in list:\n",
    "            position=list.index(letter)\n",
    "            encryptedMsg+=list[position+shift]\n",
    "        else:\n",
    "            encryptedMsg+=letter \n",
    "    return encryptedMsg\n",
    "     \n",
    "def decrypt(msg,shift):\n",
    "    decryptedMsg=\"\"\n",
    "    for letter in msg:\n",
    "        if letter in list:\n",
    "            position=list.index(letter)\n",
    "            decryptedMsg+=list[position-shift]\n",
    "        else:\n",
    "            decryptedMsg+=letter \n",
    "    return decryptedMsg\n",
    "\n",
    "\n",
    "print(\"░C░a░e░s░a░r░ ░C░i░p░h░e░r░\")\n",
    "choice=input(\"Type 'encode' to encrypt and 'decode' to decrypt :\\n\").lower()\n",
    "msg=input(\"Type your message :\\n\").lower()\n",
    "shift=int(input(\"Type the shift number :\\n\"))\n",
    "\n",
    "if choice=='encode':\n",
    "    print(\"Encrypted message is : \",encrypt(msg,shift))\n",
    "elif choice=='decode':\n",
    "    print(\"Decrypted message is : \",decrypt(msg,shift))\n"
   ]
  },
  {
   "cell_type": "markdown",
   "id": "d19ccb75",
   "metadata": {},
   "source": [
    "## Improving the code"
   ]
  },
  {
   "cell_type": "code",
   "execution_count": 42,
   "id": "4d56f2b1",
   "metadata": {},
   "outputs": [
    {
     "name": "stdout",
     "output_type": "stream",
     "text": [
      "░C░a░e░s░a░r░ ░C░i░p░h░e░r░\n",
      "Type 'encode' to encrypt and 'decode' to decrypt :\n",
      "encode\n",
      "Type your message :\n",
      "MY INSTAGRAM ID IS _am_anchal_\n",
      "Type the shift number :\n",
      "8\n",
      "Your encoded text is :  vg rwabioziv rl ra _iv_iwkpiu_\n",
      "Type 'yes' to continue and 'no' to end. \n",
      "yes\n",
      "░C░a░e░s░a░r░ ░C░i░p░h░e░r░\n",
      "Type 'encode' to encrypt and 'decode' to decrypt :\n",
      "decode\n",
      "Type your message :\n",
      "vg rwabioziv rl ra _iv_iwkpiu_\n",
      "Type the shift number :\n",
      "8\n",
      "Your decoded text is :  my instagram id is _am_anchal_\n",
      "Type 'yes' to continue and 'no' to end. \n",
      "no\n",
      "-------------END------------\n"
     ]
    }
   ],
   "source": [
    "list=['a','b','c','d','e','f','g','h','i','j','k','l','m','n','o','p','r','s','t','u','v','w','x','y','z','a','b','c','d','e','f','g','h','i','j','k','l','m','n','o','p','r','s','t','u','v','w','x','y','z']\n",
    "\n",
    "def cypher(choice,msg,shift):\n",
    "    cypherMsg=\"\"\n",
    "    if choice=='decode':\n",
    "        shift*=-1\n",
    "    for letter in msg:\n",
    "        if letter in list:\n",
    "            position=list.index(letter)\n",
    "            cypherMsg+=list[position+shift]\n",
    "        else:\n",
    "            cypherMsg+=letter \n",
    "    print(f\"Your {choice}d text is : \",cypherMsg)\n",
    "    \n",
    "Continue=True\n",
    "while Continue:\n",
    "    print(\"░C░a░e░s░a░r░ ░C░i░p░h░e░r░\")\n",
    "    choice=input(\"Type 'encode' to encrypt and 'decode' to decrypt :\\n\").lower()\n",
    "    msg=input(\"Type your message :\\n\").lower()\n",
    "    shift=int(input(\"Type the shift number :\\n\"))\n",
    "    shift=shift%25\n",
    "    cypher(choice,msg,shift)\n",
    "    \n",
    "    result=input(\"Type 'yes' to continue and 'no' to end. \\n\").lower()\n",
    "    if result=='no':\n",
    "        Continue=False\n",
    "        print(\"-------------END------------\")\n",
    "\n"
   ]
  },
  {
   "cell_type": "code",
   "execution_count": null,
   "id": "bb9ef48b",
   "metadata": {},
   "outputs": [],
   "source": []
  }
 ],
 "metadata": {
  "kernelspec": {
   "display_name": "Python 3",
   "language": "python",
   "name": "python3"
  },
  "language_info": {
   "codemirror_mode": {
    "name": "ipython",
    "version": 3
   },
   "file_extension": ".py",
   "mimetype": "text/x-python",
   "name": "python",
   "nbconvert_exporter": "python",
   "pygments_lexer": "ipython3",
   "version": "3.8.8"
  }
 },
 "nbformat": 4,
 "nbformat_minor": 5
}
