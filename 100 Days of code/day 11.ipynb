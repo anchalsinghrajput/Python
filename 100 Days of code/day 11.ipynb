{
 "cells": [
  {
   "cell_type": "code",
   "execution_count": 10,
   "id": "ea3cd69a",
   "metadata": {},
   "outputs": [
    {
     "name": "stdout",
     "output_type": "stream",
     "text": [
      "Do you want to play a game of Blakjack? Type 'y' for yes and 'n' for noy\n",
      "PLAY YOUR GAME!! ENGOY\n",
      "\n",
      "Your Card :  [2, 0]\n",
      "Computer first card :  10\n",
      "Your final hand :  [2, 0]\n",
      "Compter final hand :  [10, 8]\n",
      "Computer Won!!\n"
     ]
    }
   ],
   "source": [
    "logo=\"\"\"PLAY YOUR GAME!! ENGOY\n",
    "\"\"\"\n",
    "import random as r\n",
    "\n",
    "choice=input(\"Do you want to play a game of Blakjack? Type 'y' for yes and 'n' for no\").lower()\n",
    "if choice=='y':\n",
    "    print(logo)\n",
    "    usersCard=[r.randint(0,19),r.randint(0,19)]\n",
    "    print(\"Your Card : \",usersCard)\n",
    "    computer1=r.randint(0,19)\n",
    "    print(\"Computer first card : \",computer1)\n",
    "    print(\"Your final hand : \",usersCard)\n",
    "    computer2=r.randint(0,19)\n",
    "    computersCard=[computer1,computer2]\n",
    "    print(\"Compter final hand : \",computersCard)\n",
    "    if sum(usersCard)>sum(computersCard):\n",
    "        print(\"You Win!!\")\n",
    "    else:\n",
    "        print(\"Computer Won!!\")"
   ]
  },
  {
   "cell_type": "code",
   "execution_count": null,
   "id": "427d5ef6",
   "metadata": {},
   "outputs": [],
   "source": [
    "import random\n",
    "def dealCard():\n",
    "    \"\"\"Return the random card from the deck\"\"\"\n",
    "    card=[11,2,3,4,5,6,7,8,9,10,10,10,10]\n",
    "    card=random.choice(cards)\n",
    "    return card\n",
    "\n",
    "userCard=[]\n",
    "computerCard=[]\n",
    "\n",
    "for _ in range(2):\n",
    "    userCard.append(dealCard())\n",
    "    computerCard.append(dealCard())\n",
    "    "
   ]
  },
  {
   "cell_type": "code",
   "execution_count": null,
   "id": "b00fe4e1",
   "metadata": {},
   "outputs": [],
   "source": []
  }
 ],
 "metadata": {
  "kernelspec": {
   "display_name": "Python 3",
   "language": "python",
   "name": "python3"
  },
  "language_info": {
   "codemirror_mode": {
    "name": "ipython",
    "version": 3
   },
   "file_extension": ".py",
   "mimetype": "text/x-python",
   "name": "python",
   "nbconvert_exporter": "python",
   "pygments_lexer": "ipython3",
   "version": "3.8.8"
  }
 },
 "nbformat": 4,
 "nbformat_minor": 5
}
