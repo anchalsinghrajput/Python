{
 "cells": [
  {
   "cell_type": "code",
   "execution_count": 1,
   "id": "33cde2d9",
   "metadata": {},
   "outputs": [
    {
     "data": {
      "text/plain": [
       "<bound method _Screen.exitonclick of <turtle._Screen object at 0x00000074B7479790>>"
      ]
     },
     "execution_count": 1,
     "metadata": {},
     "output_type": "execute_result"
    }
   ],
   "source": [
    "from turtle import Turtle, Screen\n",
    "t = Turtle()\n",
    "\n",
    "for i in range(15):\n",
    "    t.forward(100)\n",
    "    t.penup()\n",
    "    t.forward(100)\n",
    "    t.pendown()\n",
    "    \n",
    "s = Screen()\n",
    "s.exitonclick()\n"
   ]
  },
  {
   "cell_type": "code",
   "execution_count": null,
   "id": "c1208767",
   "metadata": {},
   "outputs": [],
   "source": []
  }
 ],
 "metadata": {
  "kernelspec": {
   "display_name": "Python 3",
   "language": "python",
   "name": "python3"
  },
  "language_info": {
   "codemirror_mode": {
    "name": "ipython",
    "version": 3
   },
   "file_extension": ".py",
   "mimetype": "text/x-python",
   "name": "python",
   "nbconvert_exporter": "python",
   "pygments_lexer": "ipython3",
   "version": "3.8.8"
  }
 },
 "nbformat": 4,
 "nbformat_minor": 5
}
