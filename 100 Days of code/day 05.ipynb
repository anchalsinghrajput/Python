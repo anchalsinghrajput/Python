{
 "cells": [
  {
   "cell_type": "markdown",
   "id": "1632b90a",
   "metadata": {},
   "source": [
    "## LOOP\n",
    "### Traversing through the list"
   ]
  },
  {
   "cell_type": "code",
   "execution_count": 1,
   "id": "5bcfd6e4",
   "metadata": {},
   "outputs": [
    {
     "name": "stdout",
     "output_type": "stream",
     "text": [
      "apple\n",
      "banana\n",
      "kiwi\n",
      "papaya\n",
      "guava\n",
      "strawberry\n",
      "pineapple\n",
      "pear\n",
      "grapes\n"
     ]
    }
   ],
   "source": [
    "fruits=[\"apple\",\"banana\",\"kiwi\",\"papaya\",\"guava\",\"strawberry\",\"pineapple\",\"pear\",\"grapes\"]\n",
    "for fruit in fruits:\n",
    "    print(fruit)"
   ]
  },
  {
   "cell_type": "markdown",
   "id": "9fcba086",
   "metadata": {},
   "source": [
    "### Average of student height"
   ]
  },
  {
   "cell_type": "code",
   "execution_count": 6,
   "id": "3a72c9cf",
   "metadata": {},
   "outputs": [
    {
     "name": "stdout",
     "output_type": "stream",
     "text": [
      "Input a list of student heights 4 6 8 9\n",
      "average :  7\n"
     ]
    }
   ],
   "source": [
    "student_heights = input(\"Input a list of student heights \").split()\n",
    "for n in range(0, len(student_heights)):\n",
    "  student_heights[n] = int(student_heights[n])\n",
    "\n",
    "sum=0\n",
    "no_of_student=0\n",
    "for height in student_heights:\n",
    "  sum=sum+height\n",
    "  no_of_student+=1\n",
    "\n",
    "avg=round(sum/no_of_student)\n",
    "\n",
    "print(\"average : \",avg)\n"
   ]
  },
  {
   "cell_type": "markdown",
   "id": "7f53a567",
   "metadata": {},
   "source": [
    "### Highest score among all the student"
   ]
  },
  {
   "cell_type": "code",
   "execution_count": 7,
   "id": "397d90aa",
   "metadata": {},
   "outputs": [
    {
     "name": "stdout",
     "output_type": "stream",
     "text": [
      "Input a list of student scores 34 56 78 95 78 98 12\n",
      "[34, 56, 78, 95, 78, 98, 12]\n",
      "The highest score in the class is: 98\n"
     ]
    }
   ],
   "source": [
    "student_scores = input(\"Input a list of student scores \").split()\n",
    "for n in range(0, len(student_scores)):\n",
    "  student_scores[n] = int(student_scores[n])\n",
    "print(student_scores)\n",
    "\n",
    "highest_score=0\n",
    "for score in student_scores:\n",
    "  if highest_score<score:\n",
    "    highest_score=score\n",
    "\n",
    "print(f\"The highest score in the class is: {highest_score}\")"
   ]
  },
  {
   "cell_type": "markdown",
   "id": "40c9b637",
   "metadata": {},
   "source": [
    "### Range function"
   ]
  },
  {
   "cell_type": "code",
   "execution_count": 13,
   "id": "ad5ea63f",
   "metadata": {},
   "outputs": [
    {
     "name": "stdout",
     "output_type": "stream",
     "text": [
      "1\n",
      "2\n",
      "3\n",
      "4\n",
      "5\n",
      "6\n",
      "7\n",
      "8\n",
      "9\n"
     ]
    }
   ],
   "source": [
    "# range(start,stop)\n",
    "for number in range(1,10):    \n",
    "    print(number)             "
   ]
  },
  {
   "cell_type": "code",
   "execution_count": 15,
   "id": "f8252ac9",
   "metadata": {},
   "outputs": [
    {
     "name": "stdout",
     "output_type": "stream",
     "text": [
      "2\n",
      "7\n",
      "12\n",
      "17\n",
      "22\n",
      "27\n",
      "32\n",
      "37\n"
     ]
    }
   ],
   "source": [
    "# range(start,stop,steps)\n",
    "for number in range(2,41,5):\n",
    "    print(number)"
   ]
  },
  {
   "cell_type": "code",
   "execution_count": 24,
   "id": "603ce308",
   "metadata": {},
   "outputs": [
    {
     "name": "stdout",
     "output_type": "stream",
     "text": [
      "1 2 3 4 5 6 7 8 9 \n",
      "\n",
      "1, 2, 3, 4, 5, 6, 7, 8, 9, "
     ]
    }
   ],
   "source": [
    "for number in range(1,10):    \n",
    "    print(number,end=\" \") \n",
    "    \n",
    "print(\"\\n\")\n",
    "\n",
    "for number in range(1,10): \n",
    "    print(number,end=\", \") "
   ]
  },
  {
   "cell_type": "markdown",
   "id": "741e47eb",
   "metadata": {},
   "source": [
    "### Sum of all even number from 1 to 100"
   ]
  },
  {
   "cell_type": "code",
   "execution_count": 26,
   "id": "9613fb60",
   "metadata": {},
   "outputs": [
    {
     "name": "stdout",
     "output_type": "stream",
     "text": [
      "2550\n",
      "2550\n"
     ]
    }
   ],
   "source": [
    "even_sum = 0\n",
    "for number in range(2, 101, 2):\n",
    "  even_sum += number\n",
    "print(even_sum)\n",
    "  \n",
    "#or\n",
    "\n",
    "alternative_sum = 0\n",
    "for number in range(1, 101):\n",
    "  if number % 2 == 0:\n",
    "    alternative_sum += number\n",
    "print(alternative_sum)"
   ]
  },
  {
   "cell_type": "markdown",
   "id": "e42dcb8b",
   "metadata": {},
   "source": [
    "### FizzBuzz\n",
    "You are going to write a program that automatically prints the solution to the FizzBuzz game.\n",
    "\n",
    "Your program should print each number from 1 to 100 in turn.\n",
    "\n",
    "When the number is divisible by 3 then instead of printing the number it should print \"Fizz\".\n",
    "\n",
    "When the number is divisible by 5, then instead of printing the number it should print \"Buzz\".\n",
    "\n",
    "And if the number is divisible by both 3 and 5 e.g. 15 then instead of the number it should print \"FizzBuzz\""
   ]
  },
  {
   "cell_type": "code",
   "execution_count": 29,
   "id": "97d8b04f",
   "metadata": {},
   "outputs": [
    {
     "name": "stdout",
     "output_type": "stream",
     "text": [
      "1 2 Fizz 4 Buzz Fizz 7 8 Fizz Buzz 11 Fizz 13 14 FizzBuzz 16 17 Fizz 19 Buzz Fizz 22 23 Fizz Buzz 26 Fizz 28 29 FizzBuzz 31 32 Fizz 34 Buzz Fizz 37 38 Fizz Buzz 41 Fizz 43 44 FizzBuzz 46 47 Fizz 49 Buzz Fizz 52 53 Fizz Buzz 56 Fizz 58 59 FizzBuzz 61 62 Fizz 64 Buzz Fizz 67 68 Fizz Buzz 71 Fizz 73 74 FizzBuzz 76 77 Fizz 79 Buzz Fizz 82 83 Fizz Buzz 86 Fizz 88 89 FizzBuzz 91 92 Fizz 94 Buzz Fizz 97 98 Fizz Buzz "
     ]
    }
   ],
   "source": [
    "for number in range(1, 101):\n",
    "  if number % 3 == 0 and number % 5 == 0:\n",
    "    print(\"FizzBuzz\",end=\" \")\n",
    "  elif number % 3 == 0:\n",
    "    print(\"Fizz\",end=\" \")\n",
    "  elif number % 5 == 0:\n",
    "    print(\"Buzz\",end=\" \")\n",
    "  else:\n",
    "    print(number,end=\" \")"
   ]
  },
  {
   "cell_type": "markdown",
   "id": "bd0683ec",
   "metadata": {},
   "source": [
    "## Day 5 project , Password Generator"
   ]
  },
  {
   "cell_type": "code",
   "execution_count": 38,
   "id": "bf9f13a1",
   "metadata": {},
   "outputs": [
    {
     "name": "stdout",
     "output_type": "stream",
     "text": [
      "Welcome to the PyPassword Generator!\n",
      "How many letters would you like to have in your password?\n",
      "4\n",
      "How many symbols would you like?\n",
      "2\n",
      "How many numbers would you like?\n",
      "2\n",
      "Your password is :  aODh18+!\n"
     ]
    }
   ],
   "source": [
    "import random\n",
    "letters = ['a', 'b', 'c', 'd', 'e', 'f', 'g', 'h', 'i', 'j', 'k', 'l', 'm', 'n', 'o', 'p', 'q', 'r', 's', 't', 'u', 'v', 'w', 'x', 'y', 'z', 'A', 'B', 'C', 'D', 'E', 'F', 'G', 'H', 'I', 'J', 'K', 'L', 'M', 'N', 'O', 'P', 'Q', 'R', 'S', 'T', 'U', 'V', 'W', 'X', 'Y', 'Z']\n",
    "numbers = ['0', '1', '2', '3', '4', '5', '6', '7', '8', '9']\n",
    "symbols = ['!', '#', '$', '%', '&', '(', ')', '*', '+']\n",
    "\n",
    "print(\"Welcome to the PyPassword Generator!\")\n",
    "nr_letters= int(input(\"How many letters would you like to have in your password?\\n\")) \n",
    "nr_symbols = int(input(f\"How many symbols would you like?\\n\"))\n",
    "nr_numbers = int(input(f\"How many numbers would you like?\\n\"))\n",
    "\n",
    "password=\"\"\n",
    " \n",
    "for char in range(0,nr_letters):\n",
    "    password+=random.choice(letters)\n",
    "\n",
    "for char in range(0,nr_numbers):\n",
    "    password+=random.choice(numbers)\n",
    "    \n",
    "for char in range(0,nr_symbols):\n",
    "    password+=random.choice(symbols)\n",
    "    \n",
    "print(\"Your password is : \",password)"
   ]
  },
  {
   "cell_type": "markdown",
   "id": "fe2e1736",
   "metadata": {},
   "source": [
    "### Optimized one"
   ]
  },
  {
   "cell_type": "code",
   "execution_count": 43,
   "id": "69c782e2",
   "metadata": {},
   "outputs": [
    {
     "name": "stdout",
     "output_type": "stream",
     "text": [
      "Welcome to the PyPassword Generator!\n",
      "How many letters would you like to have in your password?\n",
      "4\n",
      "How many symbols would you like?\n",
      "5\n",
      "How many numbers would you like?\n",
      "2\n",
      "['J', 'Z', 'X', 'A', '7', '7', '!', '(', '$', ')', '*']\n",
      "['J', '7', '*', '7', 'X', '(', '$', 'A', '!', 'Z', ')']\n",
      "Here is your password :  J7*7X($A!Z)\n"
     ]
    }
   ],
   "source": [
    "import random\n",
    "letters = ['a', 'b', 'c', 'd', 'e', 'f', 'g', 'h', 'i', 'j', 'k', 'l', 'm', 'n', 'o', 'p', 'q', 'r', 's', 't', 'u', 'v', 'w', 'x', 'y', 'z', 'A', 'B', 'C', 'D', 'E', 'F', 'G', 'H', 'I', 'J', 'K', 'L', 'M', 'N', 'O', 'P', 'Q', 'R', 'S', 'T', 'U', 'V', 'W', 'X', 'Y', 'Z']\n",
    "numbers = ['0', '1', '2', '3', '4', '5', '6', '7', '8', '9']\n",
    "symbols = ['!', '#', '$', '%', '&', '(', ')', '*', '+']\n",
    "\n",
    "print(\"Welcome to the PyPassword Generator!\")\n",
    "nr_letters= int(input(\"How many letters would you like to have in your password?\\n\")) \n",
    "nr_symbols = int(input(f\"How many symbols would you like?\\n\"))\n",
    "nr_numbers = int(input(f\"How many numbers would you like?\\n\"))\n",
    "\n",
    "password_list=[]\n",
    "\n",
    "for char in range(0,nr_letters):\n",
    "    password_list.append(random.choice(letters))\n",
    "\n",
    "for char in range(0,nr_numbers):\n",
    "    password_list.append(random.choice(numbers))\n",
    "    \n",
    "for char in range(0,nr_symbols):\n",
    "    password_list.append(random.choice(symbols))\n",
    "\n",
    "print(password_list)\n",
    "\n",
    "#shuffle ths password_list\n",
    "random.shuffle(password_list)\n",
    "print(password_list)\n",
    "\n",
    "password=\"\"\n",
    "for char in password_list:\n",
    "    password=password+char\n",
    "    \n",
    "print(\"Here is your password : \",password)\n"
   ]
  },
  {
   "cell_type": "markdown",
   "id": "494353aa",
   "metadata": {},
   "source": [
    "## Final one"
   ]
  },
  {
   "cell_type": "code",
   "execution_count": 44,
   "id": "7ed0b842",
   "metadata": {},
   "outputs": [
    {
     "name": "stdout",
     "output_type": "stream",
     "text": [
      "Welcome to the PyPassword Generator!\n",
      "How many letters would you like to have in your password?\n",
      "6\n",
      "How many symbols would you like?\n",
      "3\n",
      "How many numbers would you like?\n",
      "3\n",
      "Here is your password :  Wjkzf))926$j\n"
     ]
    }
   ],
   "source": [
    "import random\n",
    "letters = ['a', 'b', 'c', 'd', 'e', 'f', 'g', 'h', 'i', 'j', 'k', 'l', 'm', 'n', 'o', 'p', 'q', 'r', 's', 't', 'u', 'v', 'w', 'x', 'y', 'z', 'A', 'B', 'C', 'D', 'E', 'F', 'G', 'H', 'I', 'J', 'K', 'L', 'M', 'N', 'O', 'P', 'Q', 'R', 'S', 'T', 'U', 'V', 'W', 'X', 'Y', 'Z']\n",
    "numbers = ['0', '1', '2', '3', '4', '5', '6', '7', '8', '9']\n",
    "symbols = ['!', '#', '$', '%', '&', '(', ')', '*', '+']\n",
    "\n",
    "print(\"Welcome to the PyPassword Generator!\")\n",
    "nr_letters= int(input(\"How many letters would you like to have in your password?\\n\")) \n",
    "nr_symbols = int(input(f\"How many symbols would you like?\\n\"))\n",
    "nr_numbers = int(input(f\"How many numbers would you like?\\n\"))\n",
    "\n",
    "password_list=[]\n",
    "\n",
    "for char in range(0,nr_letters):\n",
    "    password_list.append(random.choice(letters))\n",
    "\n",
    "for char in range(0,nr_numbers):\n",
    "    password_list.append(random.choice(numbers))\n",
    "    \n",
    "for char in range(0,nr_symbols):\n",
    "    password_list.append(random.choice(symbols))\n",
    "    \n",
    "random.shuffle(password_list)\n",
    "\n",
    "password=\"\"\n",
    "for char in password_list:\n",
    "    password=password+char\n",
    "    \n",
    "print(\"Here is your password : \",password)"
   ]
  },
  {
   "cell_type": "code",
   "execution_count": null,
   "id": "458ed4cc",
   "metadata": {},
   "outputs": [],
   "source": []
  }
 ],
 "metadata": {
  "kernelspec": {
   "display_name": "Python 3",
   "language": "python",
   "name": "python3"
  },
  "language_info": {
   "codemirror_mode": {
    "name": "ipython",
    "version": 3
   },
   "file_extension": ".py",
   "mimetype": "text/x-python",
   "name": "python",
   "nbconvert_exporter": "python",
   "pygments_lexer": "ipython3",
   "version": "3.8.8"
  }
 },
 "nbformat": 4,
 "nbformat_minor": 5
}
