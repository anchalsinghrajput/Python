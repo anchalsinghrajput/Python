{
 "cells": [
  {
   "cell_type": "code",
   "execution_count": 8,
   "id": "f7f3b378",
   "metadata": {},
   "outputs": [
    {
     "name": "stdout",
     "output_type": "stream",
     "text": [
      "Anchal\n",
      "Singh\n"
     ]
    }
   ],
   "source": [
    "def name(fName,lName):\n",
    "    print(fName.title())\n",
    "    print(lName.capitalize())\n",
    "name(\"Anchal\",\"SINGH\")"
   ]
  },
  {
   "cell_type": "code",
   "execution_count": 5,
   "id": "d54b7e10",
   "metadata": {},
   "outputs": [
    {
     "name": "stdout",
     "output_type": "stream",
     "text": [
      "First name : Anchal \n",
      "Second name : Singh\n"
     ]
    }
   ],
   "source": [
    "def name(fName,lName):\n",
    "    fName=fName.title()\n",
    "    lName=lName.capitalize()\n",
    "    return f\"First name : {fName} \\nSecond name : {lName}\"\n",
    "a=name(\"anchal\",\"singh\")\n",
    "print(a)"
   ]
  },
  {
   "cell_type": "markdown",
   "id": "c931737a",
   "metadata": {},
   "source": [
    "### Docstring"
   ]
  },
  {
   "cell_type": "code",
   "execution_count": 7,
   "id": "935d9018",
   "metadata": {},
   "outputs": [
    {
     "name": "stdout",
     "output_type": "stream",
     "text": [
      "First name : Anchal \n",
      "Second name : Singh\n"
     ]
    }
   ],
   "source": [
    "def name(fName,lName):\n",
    "    #docstring\n",
    "    \"\"\"this is how we can create a\n",
    "    document type string it is used by adding 3 quotation \n",
    "    mark\n",
    "    \"\"\"\n",
    "    fName=fName.title()\n",
    "    lName=lName.capitalize()\n",
    "    return f\"First name : {fName} \\nSecond name : {lName}\"\n",
    "a=name(\"anchal\",\"singh\")\n",
    "print(a)"
   ]
  },
  {
   "cell_type": "code",
   "execution_count": null,
   "id": "54403fe9",
   "metadata": {},
   "outputs": [
    {
     "name": "stdout",
     "output_type": "stream",
     "text": [
      "\n",
      " _____________________\n",
      "|  _________________  |\n",
      "| |              0. | |  .----------------.  .----------------.  .----------------.  .----------------. \n",
      "| |_________________| | | .--------------. || .--------------. || .--------------. || .--------------. |\n",
      "|  ___ ___ ___   ___  | | |     ______   | || |      __      | || |   _____      | || |     ______   | |\n",
      "| | 7 | 8 | 9 | | + | | | |   .' ___  |  | || |     /  \\     | || |  |_   _|     | || |   .' ___  |  | |\n",
      "| |___|___|___| |___| | | |  / .'   \\_|  | || |    / /\\ \\    | || |    | |       | || |  / .'   \\_|  | |\n",
      "| | 4 | 5 | 6 | | - | | | |  | |         | || |   / ____ \\   | || |    | |   _   | || |  | |         | |\n",
      "| |___|___|___| |___| | | |  \\ `.___.'\\  | || | _/ /    \\ \\_ | || |   _| |__/ |  | || |  \\ `.___.'\\  | |\n",
      "| | 1 | 2 | 3 | | x | | | |   `._____.'  | || ||____|  |____|| || |  |________|  | || |   `._____.'  | |\n",
      "| |___|___|___| |___| | | |              | || |              | || |              | || |              | |\n",
      "| | . | 0 | = | | / | | | '--------------' || '--------------' || '--------------' || '--------------' |\n",
      "| |___|___|___| |___| |  '----------------'  '----------------'  '----------------'  '----------------' \n",
      "|_____________________|\n",
      "\n",
      "Enter the first number?\n",
      "45\n",
      "+\n",
      "-\n",
      "*\n",
      "/\n",
      "Enter a operator? \n",
      "+\n",
      "Enter the Second number? \n",
      "65\n",
      "45.0 + 65.0 = 110.0\n",
      "Type 'y' to continue calculating with 110.0 , type 'n' to for new calculation and 'e' for exit? : \n",
      "y\n",
      "Enter a operator? \n",
      "*\n",
      "Enter the Second number? \n",
      "5\n",
      "110.0 * 5.0 = 550.0\n",
      "Type 'y' to continue calculating with 550.0 , type 'n' to for new calculation and 'e' for exit? : \n",
      "n\n",
      "\n",
      " _____________________\n",
      "|  _________________  |\n",
      "| |              0. | |  .----------------.  .----------------.  .----------------.  .----------------. \n",
      "| |_________________| | | .--------------. || .--------------. || .--------------. || .--------------. |\n",
      "|  ___ ___ ___   ___  | | |     ______   | || |      __      | || |   _____      | || |     ______   | |\n",
      "| | 7 | 8 | 9 | | + | | | |   .' ___  |  | || |     /  \\     | || |  |_   _|     | || |   .' ___  |  | |\n",
      "| |___|___|___| |___| | | |  / .'   \\_|  | || |    / /\\ \\    | || |    | |       | || |  / .'   \\_|  | |\n",
      "| | 4 | 5 | 6 | | - | | | |  | |         | || |   / ____ \\   | || |    | |   _   | || |  | |         | |\n",
      "| |___|___|___| |___| | | |  \\ `.___.'\\  | || | _/ /    \\ \\_ | || |   _| |__/ |  | || |  \\ `.___.'\\  | |\n",
      "| | 1 | 2 | 3 | | x | | | |   `._____.'  | || ||____|  |____|| || |  |________|  | || |   `._____.'  | |\n",
      "| |___|___|___| |___| | | |              | || |              | || |              | || |              | |\n",
      "| | . | 0 | = | | / | | | '--------------' || '--------------' || '--------------' || '--------------' |\n",
      "| |___|___|___| |___| |  '----------------'  '----------------'  '----------------'  '----------------' \n",
      "|_____________________|\n",
      "\n",
      "Enter the first number?\n",
      "23\n",
      "+\n",
      "-\n",
      "*\n",
      "/\n",
      "Enter a operator? \n",
      "-\n",
      "Enter the Second number? \n",
      "43\n",
      "23.0 - 43.0 = -20.0\n",
      "Type 'y' to continue calculating with -20.0 , type 'n' to for new calculation and 'e' for exit? : \n",
      "y\n",
      "Enter a operator? \n",
      "*\n",
      "Enter the Second number? \n",
      "-2\n",
      "-20.0 * -2.0 = 40.0\n",
      "Type 'y' to continue calculating with 40.0 , type 'n' to for new calculation and 'e' for exit? : \n",
      "e\n",
      "Enter a operator? \n",
      "*\n",
      "Enter the Second number? \n",
      "6\n",
      "-20.0 * 6.0 = -120.0\n",
      "Type 'y' to continue calculating with -120.0 , type 'n' to for new calculation and 'e' for exit? : \n",
      "n\n",
      "\n",
      " _____________________\n",
      "|  _________________  |\n",
      "| |              0. | |  .----------------.  .----------------.  .----------------.  .----------------. \n",
      "| |_________________| | | .--------------. || .--------------. || .--------------. || .--------------. |\n",
      "|  ___ ___ ___   ___  | | |     ______   | || |      __      | || |   _____      | || |     ______   | |\n",
      "| | 7 | 8 | 9 | | + | | | |   .' ___  |  | || |     /  \\     | || |  |_   _|     | || |   .' ___  |  | |\n",
      "| |___|___|___| |___| | | |  / .'   \\_|  | || |    / /\\ \\    | || |    | |       | || |  / .'   \\_|  | |\n",
      "| | 4 | 5 | 6 | | - | | | |  | |         | || |   / ____ \\   | || |    | |   _   | || |  | |         | |\n",
      "| |___|___|___| |___| | | |  \\ `.___.'\\  | || | _/ /    \\ \\_ | || |   _| |__/ |  | || |  \\ `.___.'\\  | |\n",
      "| | 1 | 2 | 3 | | x | | | |   `._____.'  | || ||____|  |____|| || |  |________|  | || |   `._____.'  | |\n",
      "| |___|___|___| |___| | | |              | || |              | || |              | || |              | |\n",
      "| | . | 0 | = | | / | | | '--------------' || '--------------' || '--------------' || '--------------' |\n",
      "| |___|___|___| |___| |  '----------------'  '----------------'  '----------------'  '----------------' \n",
      "|_____________________|\n",
      "\n"
     ]
    }
   ],
   "source": [
    "logo=\"\"\"\n",
    " _____________________\n",
    "|  _________________  |\n",
    "| |              0. | |  .----------------.  .----------------.  .----------------.  .----------------. \n",
    "| |_________________| | | .--------------. || .--------------. || .--------------. || .--------------. |\n",
    "|  ___ ___ ___   ___  | | |     ______   | || |      __      | || |   _____      | || |     ______   | |\n",
    "| | 7 | 8 | 9 | | + | | | |   .' ___  |  | || |     /  \\     | || |  |_   _|     | || |   .' ___  |  | |\n",
    "| |___|___|___| |___| | | |  / .'   \\_|  | || |    / /\\ \\    | || |    | |       | || |  / .'   \\_|  | |\n",
    "| | 4 | 5 | 6 | | - | | | |  | |         | || |   / ____ \\   | || |    | |   _   | || |  | |         | |\n",
    "| |___|___|___| |___| | | |  \\ `.___.'\\  | || | _/ /    \\ \\_ | || |   _| |__/ |  | || |  \\ `.___.'\\  | |\n",
    "| | 1 | 2 | 3 | | x | | | |   `._____.'  | || ||____|  |____|| || |  |________|  | || |   `._____.'  | |\n",
    "| |___|___|___| |___| | | |              | || |              | || |              | || |              | |\n",
    "| | . | 0 | = | | / | | | '--------------' || '--------------' || '--------------' || '--------------' |\n",
    "| |___|___|___| |___| |  '----------------'  '----------------'  '----------------'  '----------------' \n",
    "|_____________________|\n",
    "\"\"\"\n",
    "\n",
    "def add(a,b):\n",
    "  return a+b\n",
    "\n",
    "def subtract(a,b):\n",
    "  return a-b\n",
    "\n",
    "def multiply(a,b):\n",
    "  return a*b\n",
    "\n",
    "def divide(a,b):\n",
    "  return a/b\n",
    "\n",
    "operations = {\n",
    "'+':add,\n",
    "'-':subtract,\n",
    "'*':multiply,\n",
    "'/':divide\n",
    "}\n",
    "\n",
    "def calculation():\n",
    "  print(logo)\n",
    "  num1=float(input(\"Enter the first number?\\n\"))\n",
    "  for symbols in operations:\n",
    "    print(symbols)\n",
    "\n",
    "\n",
    "  flag=True\n",
    "  while(flag):\n",
    "    operator = input(\"Enter a operator? \\n\")\n",
    "    num2=float(input(\"Enter the Second number? \\n\"))\n",
    "\n",
    "    answer=operations[operator](num1,num2)\n",
    "    print(f\"{num1} {operator} {num2} = {answer}\")\n",
    "\n",
    "    choice=input(f\"Type 'y' to continue calculating with {answer} , type 'n' to for new calculation and 'e' for exit? : \\n\")\n",
    "    if choice=='y':\n",
    "        num1=answer\n",
    "    elif choice=='n':\n",
    "        flag=False\n",
    "        calculation()\n",
    "    else:\n",
    "        quit()\n",
    "\n",
    "calculation()"
   ]
  },
  {
   "cell_type": "code",
   "execution_count": null,
   "id": "bb840fa8",
   "metadata": {},
   "outputs": [],
   "source": []
  }
 ],
 "metadata": {
  "kernelspec": {
   "display_name": "Python 3",
   "language": "python",
   "name": "python3"
  }
 },
 "nbformat": 4,
 "nbformat_minor": 5
}
