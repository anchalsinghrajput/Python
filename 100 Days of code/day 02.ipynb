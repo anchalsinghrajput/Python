{
 "cells": [
  {
   "cell_type": "markdown",
   "id": "9ce03023",
   "metadata": {},
   "source": [
    "### Subscripting"
   ]
  },
  {
   "cell_type": "code",
   "execution_count": 1,
   "id": "4e1787b9",
   "metadata": {},
   "outputs": [
    {
     "name": "stdout",
     "output_type": "stream",
     "text": [
      "H\n"
     ]
    }
   ],
   "source": [
    "print(\"Hello\"[0])"
   ]
  },
  {
   "cell_type": "code",
   "execution_count": 2,
   "id": "52a78d1e",
   "metadata": {},
   "outputs": [
    {
     "data": {
      "text/plain": [
       "'o'"
      ]
     },
     "execution_count": 2,
     "metadata": {},
     "output_type": "execute_result"
    }
   ],
   "source": [
    "\"Hello\"[4]"
   ]
  },
  {
   "cell_type": "markdown",
   "id": "319668b6",
   "metadata": {},
   "source": [
    "### Integer Datatype"
   ]
  },
  {
   "cell_type": "code",
   "execution_count": 3,
   "id": "5d2c782a",
   "metadata": {},
   "outputs": [
    {
     "name": "stdout",
     "output_type": "stream",
     "text": [
      "143\n"
     ]
    }
   ],
   "source": [
    "print(45+98)"
   ]
  },
  {
   "cell_type": "code",
   "execution_count": 4,
   "id": "a9495282",
   "metadata": {},
   "outputs": [
    {
     "data": {
      "text/plain": [
       "123455667"
      ]
     },
     "execution_count": 4,
     "metadata": {},
     "output_type": "execute_result"
    }
   ],
   "source": [
    "123_4556_67 #also treated as integer"
   ]
  },
  {
   "cell_type": "code",
   "execution_count": 6,
   "id": "1985e51d",
   "metadata": {},
   "outputs": [
    {
     "data": {
      "text/plain": [
       "int"
      ]
     },
     "execution_count": 6,
     "metadata": {},
     "output_type": "execute_result"
    }
   ],
   "source": [
    "type(125_678)"
   ]
  },
  {
   "cell_type": "markdown",
   "id": "3fc95b93",
   "metadata": {},
   "source": [
    "### Float"
   ]
  },
  {
   "cell_type": "code",
   "execution_count": 17,
   "id": "c886dea4",
   "metadata": {},
   "outputs": [
    {
     "name": "stdout",
     "output_type": "stream",
     "text": [
      "<class 'float'>\n"
     ]
    }
   ],
   "source": [
    "print(type(8/3))"
   ]
  },
  {
   "cell_type": "code",
   "execution_count": 16,
   "id": "2fe2d445",
   "metadata": {},
   "outputs": [
    {
     "name": "stdout",
     "output_type": "stream",
     "text": [
      "2.6666666666666665\n"
     ]
    }
   ],
   "source": [
    "print(8/3)"
   ]
  },
  {
   "cell_type": "markdown",
   "id": "1c10b736",
   "metadata": {},
   "source": [
    "#### Round off to 2 decimal place"
   ]
  },
  {
   "cell_type": "code",
   "execution_count": 24,
   "id": "05344027",
   "metadata": {},
   "outputs": [
    {
     "name": "stdout",
     "output_type": "stream",
     "text": [
      "2.67\n"
     ]
    }
   ],
   "source": [
    "print(round(8/3,2))"
   ]
  },
  {
   "cell_type": "code",
   "execution_count": 18,
   "id": "b0673293",
   "metadata": {},
   "outputs": [
    {
     "name": "stdout",
     "output_type": "stream",
     "text": [
      "2\n",
      "<class 'int'>\n"
     ]
    }
   ],
   "source": [
    "#make it to int type\n",
    "print(8//3)\n",
    "print(type(8//3))"
   ]
  },
  {
   "cell_type": "markdown",
   "id": "e087de8b",
   "metadata": {},
   "source": [
    "#### We can not concatinate string and integer together "
   ]
  },
  {
   "cell_type": "code",
   "execution_count": 7,
   "id": "0202940f",
   "metadata": {},
   "outputs": [
    {
     "ename": "TypeError",
     "evalue": "can only concatenate str (not \"int\") to str",
     "output_type": "error",
     "traceback": [
      "\u001b[1;31m---------------------------------------------------------------------------\u001b[0m",
      "\u001b[1;31mTypeError\u001b[0m                                 Traceback (most recent call last)",
      "\u001b[1;32m<ipython-input-7-b112361de4db>\u001b[0m in \u001b[0;36m<module>\u001b[1;34m\u001b[0m\n\u001b[0;32m      1\u001b[0m \u001b[0mage\u001b[0m\u001b[1;33m=\u001b[0m\u001b[1;36m20\u001b[0m\u001b[1;33m\u001b[0m\u001b[1;33m\u001b[0m\u001b[0m\n\u001b[1;32m----> 2\u001b[1;33m \u001b[0mprint\u001b[0m\u001b[1;33m(\u001b[0m\u001b[1;34m\"My age is \"\u001b[0m\u001b[1;33m+\u001b[0m\u001b[0mage\u001b[0m\u001b[1;33m)\u001b[0m\u001b[1;33m\u001b[0m\u001b[1;33m\u001b[0m\u001b[0m\n\u001b[0m",
      "\u001b[1;31mTypeError\u001b[0m: can only concatenate str (not \"int\") to str"
     ]
    }
   ],
   "source": [
    "age=20\n",
    "print(\"My age is \"+age)"
   ]
  },
  {
   "cell_type": "code",
   "execution_count": 8,
   "id": "b122d9b4",
   "metadata": {},
   "outputs": [
    {
     "name": "stdout",
     "output_type": "stream",
     "text": [
      "My age is 20\n"
     ]
    }
   ],
   "source": [
    "age=20\n",
    "print(\"My age is \"+str(age))"
   ]
  },
  {
   "cell_type": "markdown",
   "id": "86617585",
   "metadata": {},
   "source": [
    "#### Add\n"
   ]
  },
  {
   "cell_type": "code",
   "execution_count": 9,
   "id": "cf03e00d",
   "metadata": {},
   "outputs": [
    {
     "name": "stdout",
     "output_type": "stream",
     "text": [
      "175.8\n"
     ]
    }
   ],
   "source": [
    "print(70+float(\"105.8\"))"
   ]
  },
  {
   "cell_type": "markdown",
   "id": "ea99833c",
   "metadata": {},
   "source": [
    "### Add two digit number\n"
   ]
  },
  {
   "cell_type": "code",
   "execution_count": 11,
   "id": "6515ce9b",
   "metadata": {},
   "outputs": [
    {
     "name": "stdout",
     "output_type": "stream",
     "text": [
      "Enter two digit 39\n",
      "12\n"
     ]
    }
   ],
   "source": [
    "num=input(\"Enter two digit \")\n",
    "print(int(num[0])+int(num[1]))"
   ]
  },
  {
   "cell_type": "markdown",
   "id": "31de7022",
   "metadata": {},
   "source": [
    "### BMI Calculator\n",
    "The BMI is calculated by dividing a person's weight (in kg) by the square of their height (in m):"
   ]
  },
  {
   "cell_type": "code",
   "execution_count": 15,
   "id": "a700770e",
   "metadata": {},
   "outputs": [
    {
     "name": "stdout",
     "output_type": "stream",
     "text": [
      "enter your height in m: 1.75\n",
      "enter your weight in kg: 80\n",
      "26\n"
     ]
    }
   ],
   "source": [
    "height = input(\"enter your height in m: \")\n",
    "weight = input(\"enter your weight in kg: \")\n",
    "\n",
    "h=float(height)\n",
    "w=float(weight)\n",
    "\n",
    "result=(w/(h**2))\n",
    "print(int(result))\n"
   ]
  },
  {
   "cell_type": "markdown",
   "id": "6d3eb27d",
   "metadata": {},
   "source": [
    "### F-String"
   ]
  },
  {
   "cell_type": "code",
   "execution_count": 19,
   "id": "e4b9a34f",
   "metadata": {},
   "outputs": [
    {
     "name": "stdout",
     "output_type": "stream",
     "text": [
      "My age is 20\n"
     ]
    }
   ],
   "source": [
    "age = 20\n",
    "print(f\"My age is {age}\")"
   ]
  },
  {
   "cell_type": "code",
   "execution_count": 20,
   "id": "9bba835f",
   "metadata": {},
   "outputs": [
    {
     "name": "stdout",
     "output_type": "stream",
     "text": [
      "What is your current age?56\n",
      "You have 12410 days, 1768 weeks, and 408 months left.\n"
     ]
    }
   ],
   "source": [
    "age = input(\"What is your current age?\")\n",
    "\n",
    "print(f\"You have {365*(90-(int(age)))} days, {52*(90-(int(age)))} weeks, and {12*(90-(int(age)))} months left.\")"
   ]
  },
  {
   "cell_type": "markdown",
   "id": "444c6674",
   "metadata": {},
   "source": [
    "## Day 2 project Tip Calculator\n"
   ]
  },
  {
   "cell_type": "code",
   "execution_count": 29,
   "id": "4ec25e31",
   "metadata": {},
   "outputs": [
    {
     "name": "stdout",
     "output_type": "stream",
     "text": [
      "Welcome to the the calculator\n",
      "What was the total bill? $124.56\n",
      "What percentage tip would you like to give?10,12or 15? 12\n",
      "How many people to split the bill?7\n",
      "Each person should pay: $ 19.93\n"
     ]
    }
   ],
   "source": [
    "print(\"Welcome to the the calculator\")\n",
    "bill=float(input(\"What was the total bill? $\"))\n",
    "tip=int(input(\"What percentage tip would you like to give?10,12or 15? \"))\n",
    "people=int(input(\"How many people to split the bill?\"))\n",
    "total=round((((bill)*(tip/100))+bill)/people,2)\n",
    "print(\"Each person should pay: $\",total)"
   ]
  },
  {
   "cell_type": "code",
   "execution_count": null,
   "id": "10701ecd",
   "metadata": {},
   "outputs": [],
   "source": []
  }
 ],
 "metadata": {
  "kernelspec": {
   "display_name": "Python 3",
   "language": "python",
   "name": "python3"
  },
  "language_info": {
   "codemirror_mode": {
    "name": "ipython",
    "version": 3
   },
   "file_extension": ".py",
   "mimetype": "text/x-python",
   "name": "python",
   "nbconvert_exporter": "python",
   "pygments_lexer": "ipython3",
   "version": "3.8.8"
  }
 },
 "nbformat": 4,
 "nbformat_minor": 5
}
