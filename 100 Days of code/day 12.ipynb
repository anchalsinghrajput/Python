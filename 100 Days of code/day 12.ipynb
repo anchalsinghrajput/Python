{
 "cells": [
  {
   "cell_type": "code",
   "execution_count": 15,
   "id": "4a90e06f",
   "metadata": {},
   "outputs": [],
   "source": [
    "import tkinter\n",
    "\n",
    "window = tkinter.Tk()  #Tk is a class of tkinter file\n",
    "window.title(\"My First GUI Program\") \n",
    "window.minsize(width=500,height=300)\n",
    "\n",
    "#label\n",
    "\n",
    "myLabel=tkinter.Label(text=\"I am a label\",font=(\"Arial\",24,\"bold\"))\n",
    "myLabel.pack(side=\"bottom\")\n",
    "\n",
    "window.mainloop()"
   ]
  },
  {
   "cell_type": "code",
   "execution_count": null,
   "id": "42ff8843",
   "metadata": {},
   "outputs": [],
   "source": [
    "import tkinter\n",
    "\n",
    "window = tkinter.Tk()  #Tk is a class of tkinter file\n",
    "window.title(\"My First GUI Program\") \n",
    "window.minsize(width=500,height=300)\n",
    "\n",
    "#label\n",
    "\n",
    "myLabel=tkinter.Label(text=\"I am a label\",font=(\"Arial\",24,\"bold\"))\n",
    "myLabel.pack(side=\"left\")\n",
    "\n",
    "import turtle\n",
    "\n",
    "tim=turtle.Turtle()\n",
    "tim.write(\"some text\", font=(\"Times New Roman\",80,\"bold\"))\n",
    "\n",
    "window.mainloop()"
   ]
  },
  {
   "cell_type": "code",
   "execution_count": 2,
   "id": "24677d99",
   "metadata": {},
   "outputs": [
    {
     "name": "stdout",
     "output_type": "stream",
     "text": [
      "2\n",
      "3\n",
      "2\n",
      "8\n",
      "9\n",
      "5\n",
      "1\n"
     ]
    }
   ],
   "source": [
    "def num(*args):\n",
    "    for n in args:\n",
    "        print(n)\n",
    "        \n",
    "num(2,3)\n",
    "num(2,8,9,5,1)"
   ]
  },
  {
   "cell_type": "code",
   "execution_count": 6,
   "id": "ff16a4af",
   "metadata": {},
   "outputs": [
    {
     "name": "stdout",
     "output_type": "stream",
     "text": [
      "(2, 3, 5, 6)\n",
      "<class 'tuple'>\n"
     ]
    }
   ],
   "source": [
    "def number(*num):\n",
    "    print(num)\n",
    "    print(type(num))\n",
    "    \n",
    "number(2,3,5,6)"
   ]
  },
  {
   "cell_type": "code",
   "execution_count": 9,
   "id": "cf9714c8",
   "metadata": {},
   "outputs": [
    {
     "name": "stdout",
     "output_type": "stream",
     "text": [
      "8\n",
      "23\n",
      "55\n"
     ]
    }
   ],
   "source": [
    "def add(*num):\n",
    "    sum=0\n",
    "    for n in num:\n",
    "        sum+=n\n",
    "    return sum\n",
    "\n",
    "print(add(3,5))\n",
    "print(add(2,3,5,6,7))\n",
    "print(add(1,2,3,4,5,6,7,8,9,10))"
   ]
  },
  {
   "cell_type": "code",
   "execution_count": 10,
   "id": "9796b704",
   "metadata": {},
   "outputs": [
    {
     "name": "stdout",
     "output_type": "stream",
     "text": [
      "7\n"
     ]
    }
   ],
   "source": [
    "def add(*num):\n",
    "    print(num[3])\n",
    "    \n",
    "add(1,5,6,7)"
   ]
  },
  {
   "cell_type": "code",
   "execution_count": 15,
   "id": "ed6a1cda",
   "metadata": {},
   "outputs": [
    {
     "name": "stdout",
     "output_type": "stream",
     "text": [
      "<class 'dict'>\n",
      "{'add': 3, 'multiply': 5}\n",
      "3\n"
     ]
    }
   ],
   "source": [
    "def calculate(**kwargs):\n",
    "    print(type(kwargs))\n",
    "    print(kwargs)\n",
    "    print(kwargs[\"add\"])\n",
    "    \n",
    "calculate(add=3,multiply=5)"
   ]
  },
  {
   "cell_type": "code",
   "execution_count": null,
   "id": "0e5b4de2",
   "metadata": {},
   "outputs": [],
   "source": []
  }
 ],
 "metadata": {
  "kernelspec": {
   "display_name": "Python 3",
   "language": "python",
   "name": "python3"
  },
  "language_info": {
   "codemirror_mode": {
    "name": "ipython",
    "version": 3
   },
   "file_extension": ".py",
   "mimetype": "text/x-python",
   "name": "python",
   "nbconvert_exporter": "python",
   "pygments_lexer": "ipython3",
   "version": "3.8.8"
  }
 },
 "nbformat": 4,
 "nbformat_minor": 5
}
