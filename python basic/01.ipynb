{
 "cells": [
  {
   "cell_type": "markdown",
   "id": "8ca9633b",
   "metadata": {},
   "source": [
    "## Printing anything in python"
   ]
  },
  {
   "cell_type": "code",
   "execution_count": 2,
   "id": "2e98404c",
   "metadata": {},
   "outputs": [
    {
     "name": "stdout",
     "output_type": "stream",
     "text": [
      "Hello world\n"
     ]
    }
   ],
   "source": [
    "print(\"Hello world\")"
   ]
  },
  {
   "cell_type": "markdown",
   "id": "ccff7129",
   "metadata": {},
   "source": [
    "## Variable in python"
   ]
  },
  {
   "cell_type": "markdown",
   "id": "f7131c83",
   "metadata": {},
   "source": [
    "A variable in Python represents a named location that refers to value and whose values can\n",
    "be used and processed during the program run. In other words, variables are labels/names\n",
    "to which we can assign value and use them as a reference to that value throughout the\n",
    "code."
   ]
  },
  {
   "cell_type": "markdown",
   "id": "a88c3e3f",
   "metadata": {},
   "source": [
    "## How are Values Assigned to A Variable?"
   ]
  },
  {
   "cell_type": "markdown",
   "id": "c1bb6931",
   "metadata": {},
   "source": [
    "Values are assigned to a variable using a special symbol “=”, called the assignment\n",
    "operator ."
   ]
  },
  {
   "cell_type": "code",
   "execution_count": 11,
   "id": "7fc1f296",
   "metadata": {},
   "outputs": [],
   "source": [
    "student = \"Anchal\"  #Anchal is an string\n",
    "age = 19"
   ]
  },
  {
   "cell_type": "markdown",
   "id": "f3df73eb",
   "metadata": {},
   "source": [
    "## Print multiple arguments in Python"
   ]
  },
  {
   "cell_type": "markdown",
   "id": "baf328cc",
   "metadata": {},
   "source": [
    "#### 1. Pass it as tuple"
   ]
  },
  {
   "cell_type": "code",
   "execution_count": 13,
   "id": "5b05cd6e",
   "metadata": {},
   "outputs": [
    {
     "name": "stdout",
     "output_type": "stream",
     "text": [
      "student : Anchal \n",
      "Age : 19\n"
     ]
    }
   ],
   "source": [
    "print(\"student : %s \\nAge : %s\" % (student, age))"
   ]
  },
  {
   "cell_type": "markdown",
   "id": "6656e147",
   "metadata": {},
   "source": [
    "#### 2.Pass it as dictionary"
   ]
  },
  {
   "cell_type": "code",
   "execution_count": 16,
   "id": "e154f2d7",
   "metadata": {},
   "outputs": [
    {
     "name": "stdout",
     "output_type": "stream",
     "text": [
      "student : Anchal \n",
      "Age : 19\n"
     ]
    }
   ],
   "source": [
    "print(\"student : %(n)s \\nAge : %(a)s\" % {'n':student,'a':age})"
   ]
  },
  {
   "cell_type": "markdown",
   "id": "a475061f",
   "metadata": {},
   "source": [
    "#### 3.Use new-style string formatting"
   ]
  },
  {
   "cell_type": "code",
   "execution_count": 18,
   "id": "c5e965f9",
   "metadata": {},
   "outputs": [
    {
     "name": "stdout",
     "output_type": "stream",
     "text": [
      "student : Anchal \n",
      "Age : 19\n"
     ]
    }
   ],
   "source": [
    "print(\"student : {} \\nAge : {}\".format(student, age))"
   ]
  },
  {
   "cell_type": "markdown",
   "id": "1b56413c",
   "metadata": {},
   "source": [
    "#### 4.Use new-style string formatting with numbers (useful for reordering or printing the same one multiple times)"
   ]
  },
  {
   "cell_type": "code",
   "execution_count": 20,
   "id": "70eabe1a",
   "metadata": {},
   "outputs": [
    {
     "name": "stdout",
     "output_type": "stream",
     "text": [
      "student : Anchal \n",
      "Age : 19\n"
     ]
    }
   ],
   "source": [
    "print(\"student : {0} \\nAge : {1}\".format(student, age))"
   ]
  },
  {
   "cell_type": "markdown",
   "id": "bf62651b",
   "metadata": {},
   "source": [
    "#### 5.Use new-style string formatting with explicit names"
   ]
  },
  {
   "cell_type": "code",
   "execution_count": 21,
   "id": "dcacf8da",
   "metadata": {},
   "outputs": [
    {
     "name": "stdout",
     "output_type": "stream",
     "text": [
      "student : Anchal \n",
      "Age : 19\n"
     ]
    }
   ],
   "source": [
    "print(\"student : {s} \\nAge : {a}\".format(s=student,a=age))"
   ]
  },
  {
   "cell_type": "markdown",
   "id": "6949f543",
   "metadata": {},
   "source": [
    "#### 6.Concatenate strings"
   ]
  },
  {
   "cell_type": "code",
   "execution_count": 23,
   "id": "e1f5f7e2",
   "metadata": {},
   "outputs": [
    {
     "name": "stdout",
     "output_type": "stream",
     "text": [
      "Student : Anchal\n",
      "Age : 19\n"
     ]
    }
   ],
   "source": [
    "print(\"Student : \"+str(student)+\"\\nAge : \"+str(age))"
   ]
  },
  {
   "cell_type": "markdown",
   "id": "917ce96b",
   "metadata": {},
   "source": [
    "### 7.Just pass the values as parameters"
   ]
  },
  {
   "cell_type": "code",
   "execution_count": 26,
   "id": "e2e53558",
   "metadata": {},
   "outputs": [
    {
     "name": "stdout",
     "output_type": "stream",
     "text": [
      "Student :  Anchal \n",
      "Age :  19\n"
     ]
    }
   ],
   "source": [
    "print(\"Student : \",student,\"\\nAge : \",age)"
   ]
  },
  {
   "cell_type": "code",
   "execution_count": 32,
   "id": "de289a4b",
   "metadata": {},
   "outputs": [
    {
     "name": "stdout",
     "output_type": "stream",
     "text": [
      "Student :   Anchal   \n",
      "Age :   19\n"
     ]
    }
   ],
   "source": [
    "print(\"Student :\",student,\"\\nAge :\",age,sep='   ') #sep add space "
   ]
  },
  {
   "cell_type": "markdown",
   "id": "42e627a7",
   "metadata": {},
   "source": [
    "#### 8.Use the new f-string formatting in Python 3"
   ]
  },
  {
   "cell_type": "code",
   "execution_count": 36,
   "id": "486d0b4a",
   "metadata": {},
   "outputs": [
    {
     "name": "stdout",
     "output_type": "stream",
     "text": [
      "Student : Anchal \n",
      "Age : 19\n"
     ]
    }
   ],
   "source": [
    "print(f'Student : {student} \\nAge : {age}')"
   ]
  },
  {
   "cell_type": "markdown",
   "id": "91a105e0",
   "metadata": {},
   "source": [
    "## Naming a Variable"
   ]
  },
  {
   "cell_type": "markdown",
   "id": "bafd303e",
   "metadata": {},
   "source": [
    "● Variable names can contain letters, numbers, and underscores.  \n",
    "● They cannot contain spaces.  \n",
    "● Variable names cannot start with a number.  \n",
    "● Variable names are case sensitive. For example:- The variable names Temp and temp are different.  \n",
    "● While writing a program, creating self-explanatory variable names help a lot in increasing the readability of the code.   However, too long names can clutter up the program and make it difficult to read.  "
   ]
  },
  {
   "cell_type": "markdown",
   "id": "dfb0849b",
   "metadata": {},
   "source": [
    "## Data types"
   ]
  },
  {
   "cell_type": "markdown",
   "id": "7af05b85",
   "metadata": {},
   "source": [
    "Python offers the following built-in data types:  \n",
    "● Numbers  \n",
    "             ○ Integers  \n",
    "             ○ Floating Point Numbers  \n",
    "             ○ Complex Numbers  \n",
    "● Strings  \n",
    "● Boolean Values  \n",
    "● List, Tuple, and Dictionary  "
   ]
  },
  {
   "cell_type": "code",
   "execution_count": null,
   "id": "fd68c71d",
   "metadata": {},
   "outputs": [],
   "source": [
    "a= \"Raw\"  # String Data Type\n",
    "a= 10     # Integer Data Type\n",
    "a= 5.6    # Floating Point Number Data Type\n",
    "a= 1 + 8j # Complex Number\n",
    "a= True   # Boolean Value"
   ]
  },
  {
   "cell_type": "markdown",
   "id": "7e17e996",
   "metadata": {},
   "source": [
    "#### Boolean Data Type"
   ]
  },
  {
   "cell_type": "code",
   "execution_count": 44,
   "id": "fdfce976",
   "metadata": {},
   "outputs": [
    {
     "data": {
      "text/plain": [
       "bool"
      ]
     },
     "execution_count": 44,
     "metadata": {},
     "output_type": "execute_result"
    }
   ],
   "source": [
    "a=True\n",
    "type(a)"
   ]
  },
  {
   "cell_type": "markdown",
   "id": "789ba5de",
   "metadata": {},
   "source": [
    "## Python numbers"
   ]
  },
  {
   "cell_type": "markdown",
   "id": "7280caf6",
   "metadata": {},
   "source": [
    "Number data types store numerical values. Python supports Integers, floating-point numbers, and complex numbers. They are defined as int , float, and complex classes.  \n",
    "● Integers can be of any length (Only limited by the memory available). They do not have a decimal point and can be positive or negative.  \n",
    "● A floating-point number is a number having a fractional part. The presence of a decimal point indicates a floating-point number. They have a precision of up to 15 digits.  \n",
    "● 1 is an integer, 1.0 is a floating-point number.  \n",
    "● Complex numbers are of the form, x + yj, where x is the real part and y is the imaginary part.  \n",
    "We can use the type() function to know which class a variable or a value belongs to.  \n",
    "Similarly, the isinstance() function is used to check if an object belongs to a particular class.  "
   ]
  },
  {
   "cell_type": "code",
   "execution_count": 37,
   "id": "c86243c2",
   "metadata": {},
   "outputs": [
    {
     "name": "stdout",
     "output_type": "stream",
     "text": [
      "5 is of type <class 'int'>\n",
      "2.0 is of type <class 'float'>\n",
      "(1+2j) is complex number? True\n"
     ]
    }
   ],
   "source": [
    "b = 5\n",
    "print(b, \"is of type\" , type(b))\n",
    "b = 2.0\n",
    "print(b, \"is of type\" , type(b))\n",
    "b = 1 + 2j\n",
    "print(b, \"is complex number?\" , isinstance(b,complex))"
   ]
  },
  {
   "cell_type": "markdown",
   "id": "66134d3f",
   "metadata": {},
   "source": [
    "##  Arithmetic Operators in Python"
   ]
  },
  {
   "cell_type": "markdown",
   "id": "b72409b0",
   "metadata": {},
   "source": [
    "+Add two operands  \n",
    "-Subtracts second operand from the first  \n",
    "*Multiplies two operands  \n",
    "/ Divides numerator by denominator (Floating Point Division)  \n",
    "// Divides numerator by denominator (Floor Division) - Acts as a floor function  \n",
    "** Exponent Operator - The first operand raised to the power of the second operand  \n",
    "% Modulo Operator- Calculates remainder left after dividing first by second  "
   ]
  },
  {
   "cell_type": "code",
   "execution_count": null,
   "id": "8c4c36cd",
   "metadata": {},
   "outputs": [],
   "source": [
    "In[] : print( 5 + 2 )                             # Addition\n",
    "Out[] : 7\n",
    "In[] : print( 5 - 2 )                             # Subtraction\n",
    "Out[] : 3\n",
    "In[] : print( 5 * 2 )                             # Multiplication\n",
    "Out[] : 10\n",
    "In[] : print( 5 / 2 )                             # Floating Point Division\n",
    "Out[] : 2.5\n",
    "In[] : print( 5 // 2 )                            # Floor Division\n",
    "Out[] : 2                                         # 5 divided by 2 gives 2.5 and value of floor(2.5) is 2\n",
    "In[] : print( 5 ** 2 )                            # Calculate Exponent\n",
    "Out[] : 25                                        # 5 raised to the power of 2 is 25\n",
    "In[] : print( 5 % 2 )                             # Modulus\n",
    "Out[] : 1                                         # Remainder 1 is left after dividing 5 by 2"
   ]
  },
  {
   "cell_type": "code",
   "execution_count": 42,
   "id": "42ed83a7",
   "metadata": {},
   "outputs": [
    {
     "name": "stdout",
     "output_type": "stream",
     "text": [
      "-5\n"
     ]
    }
   ],
   "source": [
    "print(-18//4)"
   ]
  },
  {
   "cell_type": "markdown",
   "id": "52128896",
   "metadata": {},
   "source": [
    "## Taking user inputs"
   ]
  },
  {
   "cell_type": "markdown",
   "id": "bec0aa85",
   "metadata": {},
   "source": [
    "Python offers two functions int() and float() to be used with the input() function to\n",
    "convert the values received through input() into the respective numeric types integer and\n",
    "floating-point numbers. The steps will be:-\n",
    "1.Use the input() function to read the user input.\n",
    "2.Use the int() and float() function to convert the value read into integers and\n",
    "floating-point numbers, respectively. This process is called Type Casting ."
   ]
  },
  {
   "cell_type": "code",
   "execution_count": 46,
   "id": "8e5dfc07",
   "metadata": {},
   "outputs": [
    {
     "name": "stdout",
     "output_type": "stream",
     "text": [
      "Enter Your name : Anchal\n",
      "Enter Your Age : 19\n",
      "Enter Your weight : 62\n"
     ]
    }
   ],
   "source": [
    "name = input( \"Enter Your name : \")            #taking string as an input\n",
    "age = int(input( \"Enter Your Age : \"))        #taking integer as an input\n",
    "weight = int(input( \"Enter Your weight : \")) #taking float as an input"
   ]
  },
  {
   "cell_type": "markdown",
   "id": "101115ae",
   "metadata": {},
   "source": [
    "## Relational Operators"
   ]
  },
  {
   "cell_type": "markdown",
   "id": "724153ed",
   "metadata": {},
   "source": [
    "1.==(If the values of two operands are equal, then the condition is true , otherwise, it is false)  \n",
    "2.!=(If the values of the two operands are not equal, then the condition is true)  \n",
    "3.>   \n",
    "4.< </br>      \n",
    "5.>=  \n",
    "6.<=  "
   ]
  },
  {
   "cell_type": "code",
   "execution_count": 49,
   "id": "86aefd79",
   "metadata": {},
   "outputs": [
    {
     "name": "stdout",
     "output_type": "stream",
     "text": [
      "x > y is False\n",
      "x < y is True\n",
      "x == y is False\n",
      "x != y is True\n",
      "x >= y is False\n",
      "x <= y is True\n"
     ]
    }
   ],
   "source": [
    "x = 9\n",
    "y = 13\n",
    "print( 'x > y is' ,x > y)\n",
    "print( 'x < y is' ,x < y)\n",
    "print( 'x == y is' ,x == y)\n",
    "print( 'x != y is' ,x != y)\n",
    "print( 'x >= y is' ,x >= y)\n",
    "print( 'x <= y is' ,x <= y)"
   ]
  },
  {
   "cell_type": "markdown",
   "id": "d1d96a22",
   "metadata": {},
   "source": [
    "## Logical Operator"
   ]
  },
  {
   "cell_type": "markdown",
   "id": "fc07c35d",
   "metadata": {},
   "source": [
    "AND  (If both the operands are true then the condition is true)\n",
    "OR   (If any of the two operands are then the condition is true)\n",
    "NOT  (Used to reverse the logical state of its operand)"
   ]
  },
  {
   "cell_type": "code",
   "execution_count": 50,
   "id": "a311f944",
   "metadata": {},
   "outputs": [
    {
     "name": "stdout",
     "output_type": "stream",
     "text": [
      "x and y is False\n",
      "x or y is True\n",
      "not x is False\n"
     ]
    }
   ],
   "source": [
    "x = True\n",
    "y = False\n",
    "print( 'x and y is' ,x and y)\n",
    "print( 'x or y is' ,x or y)\n",
    "print( 'not x is' , not x)"
   ]
  },
  {
   "cell_type": "markdown",
   "id": "e4818b01",
   "metadata": {},
   "source": [
    "# Introduction to If-Else"
   ]
  },
  {
   "cell_type": "markdown",
   "id": "eb4eb57d",
   "metadata": {},
   "source": [
    "There are certain points in our code when we need to make some decisions and then based on the outcome of those decisions we execute the next block of code. Such conditional statements in programming languages control the flow of program execution. Most commonly used conditional statements in Python are:\n",
    "● Simple If statements\n",
    "● If-Else statements\n",
    "● I f-Elif statements\n",
    "● N ested Conditionals"
   ]
  },
  {
   "cell_type": "markdown",
   "id": "a6c240d3",
   "metadata": {},
   "source": [
    "## Simple If statements"
   ]
  },
  {
   "cell_type": "markdown",
   "id": "fd31cd43",
   "metadata": {},
   "source": [
    "Syntax :  \n",
    "\n",
    "if(condition/boolean):  \n",
    "    statement 1  \n",
    "statement 2  "
   ]
  },
  {
   "cell_type": "code",
   "execution_count": 52,
   "id": "7ace7084",
   "metadata": {},
   "outputs": [
    {
     "name": "stdout",
     "output_type": "stream",
     "text": [
      "Value is False\n"
     ]
    }
   ],
   "source": [
    "Val = False\n",
    "if Val == True :\n",
    "    print( \"Value is True\" )  # Statement 1\n",
    "print( \"Value is False\" ) # Statement 2"
   ]
  },
  {
   "cell_type": "markdown",
   "id": "26b6d817",
   "metadata": {},
   "source": [
    "## Else-If statements"
   ]
  },
  {
   "cell_type": "markdown",
   "id": "cd6b652b",
   "metadata": {},
   "source": [
    "Syntax :  \n",
    "\n",
    "if(condition/boolean):  \n",
    "    statement 1  \n",
    "else:  \n",
    "    statement 2  "
   ]
  },
  {
   "cell_type": "code",
   "execution_count": 59,
   "id": "45f37cf7",
   "metadata": {},
   "outputs": [
    {
     "name": "stdout",
     "output_type": "stream",
     "text": [
      "Odd Number\n"
     ]
    }
   ],
   "source": [
    "num = 23\n",
    "if num % 2 == 0 :\n",
    "    print(\"Even Number\" )\n",
    "else :\n",
    "    print(\"Odd Number\" )"
   ]
  },
  {
   "cell_type": "markdown",
   "id": "09b24eab",
   "metadata": {},
   "source": [
    "## If-Elif-Else statements"
   ]
  },
  {
   "cell_type": "markdown",
   "id": "d5477b2e",
   "metadata": {},
   "source": [
    "Syntax :\n",
    "\n",
    "if <Condition 1> :  \n",
    "    statement 1  \n",
    "elif <Condition 2 >:  \n",
    "    statement 2  \n",
    ".  \n",
    ".  \n",
    "elif <Condition n> :  \n",
    "    statement n  \n",
    "else :  \n",
    "    final statement  "
   ]
  },
  {
   "cell_type": "markdown",
   "id": "da3c244b",
   "metadata": {},
   "source": [
    "#### Largest among three numbers"
   ]
  },
  {
   "cell_type": "code",
   "execution_count": 61,
   "id": "6dad9ed1",
   "metadata": {},
   "outputs": [
    {
     "name": "stdout",
     "output_type": "stream",
     "text": [
      "30\n"
     ]
    }
   ],
   "source": [
    "A = 10\n",
    "B = 20\n",
    "C = 30\n",
    "if A>=B and A>= C:\n",
    "    print(A)\n",
    "elif B>=C and B>=A:\n",
    "    print(B)\n",
    "else :\n",
    "    print(C)"
   ]
  },
  {
   "cell_type": "markdown",
   "id": "4d08018d",
   "metadata": {},
   "source": [
    "## Nested Conditionals"
   ]
  },
  {
   "cell_type": "markdown",
   "id": "bd3f6573",
   "metadata": {},
   "source": [
    "Syntax:  \n",
    "if <Condition 1 >:  \n",
    "(If Condition 1 is true then execute this code block)  \n",
    "    if <Condition 2 >:  \n",
    "        < If Condition 2 is True then execute this code block>  \n",
    "    else :  \n",
    "        < If Condition 2 is False then execute this code block>  \n",
    "else :  \n",
    "(If Condition 1 is false then execute this code block)  \n",
    "    if <Condition 3 >:  \n",
    "        < If Condition 3 is True then execute this code block>  \n",
    "    else :  \n",
    "        < If Condition 3 is False then execute this code block>  "
   ]
  },
  {
   "cell_type": "markdown",
   "id": "041b1b9a",
   "metadata": {},
   "source": [
    "## Introduction to While Loops"
   ]
  },
  {
   "cell_type": "markdown",
   "id": "d5e07235",
   "metadata": {},
   "source": [
    "Syntax :  \n",
    "while(Expression/condition/boolean):  \n",
    "    < Execute this code block till the Expression is True>  "
   ]
  },
  {
   "cell_type": "code",
   "execution_count": 63,
   "id": "124f766f",
   "metadata": {},
   "outputs": [
    {
     "name": "stdout",
     "output_type": "stream",
     "text": [
      "10\n"
     ]
    }
   ],
   "source": [
    "n = 4\n",
    "sum = 0\n",
    "i = 1          #Initialising the looping variable to 1\n",
    "while (i<=n):  #The loop will continue till the value of i<number\n",
    "    sum = sum + i\n",
    "    i = i+ 1       #Value of i is updated at the end of every iteration\n",
    "print(sum)"
   ]
  },
  {
   "cell_type": "markdown",
   "id": "aab67030",
   "metadata": {},
   "source": [
    "#### Check prime : Using While Loop and Nested If Statements"
   ]
  },
  {
   "cell_type": "code",
   "execution_count": 64,
   "id": "3b39e0ac",
   "metadata": {},
   "outputs": [
    {
     "name": "stdout",
     "output_type": "stream",
     "text": [
      "Enter any number: 56\n",
      "Is Not Prime\n"
     ]
    }
   ],
   "source": [
    "# taking input from the user\n",
    "number = int(input( \"Enter any number: \" ))\n",
    "\n",
    "isPrime= True #Boolean to store if number is prime or not\n",
    "if number > 1 : # prime number is always greater than 1\n",
    "    i= 2\n",
    "    while i< number:\n",
    "        if (number % i) == 0 : # Checking for positive divisors\n",
    "            isPrime= False\n",
    "            break\n",
    "        i=i+ 1\n",
    "        \n",
    "if (number<= 1 ): # If number is less than or equal to 1\n",
    "    print( \"Is Not Prime\" )\n",
    "elif (isPrime): # If Boolean is true\n",
    "    print( \"Is Prime\" )\n",
    "else :\n",
    "    print( \"Is Not Prime\" )"
   ]
  },
  {
   "cell_type": "markdown",
   "id": "150c532f",
   "metadata": {},
   "source": [
    "#### Print All Primes- Using Nested Loops of while"
   ]
  },
  {
   "cell_type": "code",
   "execution_count": 67,
   "id": "5c107fd8",
   "metadata": {},
   "outputs": [
    {
     "name": "stdout",
     "output_type": "stream",
     "text": [
      "Enter a number : 10\n",
      "2\n",
      "3\n",
      "5\n",
      "7\n"
     ]
    }
   ],
   "source": [
    "n=int(input(\"Enter a number : \")) # Taking User Input\n",
    "k= 2 # Looping variable starting from 2\n",
    "while k<=n: # Loop will check all numbers till n\n",
    "    d= 2 # The inner loop also checks all numbers starting from 2\n",
    "    isPrime = False\n",
    "    while d<k:\n",
    "        if (k%d== 0 ):\n",
    "            isPrime = True\n",
    "        d=d+ 1\n",
    "    if ( not (isPrime)):\n",
    "        print(k)\n",
    "    k=k+ 1"
   ]
  },
  {
   "cell_type": "markdown",
   "id": "6bc75c93",
   "metadata": {},
   "source": [
    "## Range() function"
   ]
  },
  {
   "cell_type": "markdown",
   "id": "9ab35ed5",
   "metadata": {},
   "source": [
    "range() Function :  \n",
    "The range() function in Python generates a List which is a special sequence type. A sequence in Python is a succession of values bound together by a single name.  \n",
    "  \n",
    "range(Lower Limit,Upper Limit)  \n",
    "range(0,5) ----> 0,1,2,3,4  \n",
    "  \n",
    "range(Lower Limit,Upper Limit,Step value)  \n",
    "range(0,10,2) ----> 0,2,4,6,8  "
   ]
  },
  {
   "cell_type": "markdown",
   "id": "20be4549",
   "metadata": {},
   "source": [
    "## in Operator"
   ]
  },
  {
   "cell_type": "markdown",
   "id": "86793f4e",
   "metadata": {},
   "source": [
    "3 in [1,2,3,4]  \n",
    "will return True as value 3 is contained in the list.  \n",
    "\"A\" in \"BCD\"  \n",
    "will return False as \"A\" is not contained in the String \"BCD\" .  "
   ]
  },
  {
   "cell_type": "markdown",
   "id": "def30bc0",
   "metadata": {},
   "source": [
    "## For loop"
   ]
  },
  {
   "cell_type": "markdown",
   "id": "fe2dbe5f",
   "metadata": {},
   "source": [
    "Syntax :  \n",
    " for (variable) in (sequence):  \n",
    "     Statements_to_be_executed"
   ]
  },
  {
   "cell_type": "code",
   "execution_count": 7,
   "id": "d66be9bf",
   "metadata": {},
   "outputs": [
    {
     "name": "stdout",
     "output_type": "stream",
     "text": [
      "1\n",
      "4\n",
      "7\n"
     ]
    }
   ],
   "source": [
    "for a in [ 1 , 4 , 7 ]:\n",
    "    print(a)"
   ]
  },
  {
   "cell_type": "markdown",
   "id": "23c33121",
   "metadata": {},
   "source": [
    "#### Check Prime: Using For Loop"
   ]
  },
  {
   "cell_type": "code",
   "execution_count": 8,
   "id": "db1fe9a6",
   "metadata": {},
   "outputs": [
    {
     "name": "stdout",
     "output_type": "stream",
     "text": [
      "Enter any number: 10\n",
      "Is Not Prime\n"
     ]
    }
   ],
   "source": [
    "# taking input from the user\n",
    "number = int(input( \"Enter any number: \" ))\n",
    "\n",
    "isPrime= True\n",
    "\n",
    "if number > 1 : # prime number is always greater than 1\n",
    "    for i in range( 2 , number):\n",
    "        if (number % i) == 0 : # Checking for positive divisors\n",
    "            isPrime= False\n",
    "            break\n",
    "            \n",
    "if (number<= 1 ): # If the number is less than or equal to 1\n",
    "    print( \"Is Not Prime\" )\n",
    "elif (isPrime):\n",
    "    print( \"Is Prime\" )\n",
    "else :\n",
    "    print( \"Is Not Prime\" )"
   ]
  },
  {
   "cell_type": "markdown",
   "id": "92e0bb80",
   "metadata": {},
   "source": [
    "## Jump Statements: break and continue"
   ]
  },
  {
   "cell_type": "markdown",
   "id": "caf9f388",
   "metadata": {},
   "source": [
    "#### break statement : \n",
    "The break statement enables a program to skip over a part of the code. A break statement terminates the very loop it lies within."
   ]
  },
  {
   "cell_type": "code",
   "execution_count": null,
   "id": "05557c6d",
   "metadata": {},
   "outputs": [],
   "source": [
    "while <Expression/Condition/Statement>:\n",
    "    #Statement1\n",
    "    if <condition1>:\n",
    "        break #If “condition” is true, then code breaks out\n",
    "    #Statement2\n",
    "    #Statement3\n",
    "#Statement4: This statement is executed if it breaks out of the loop\n",
    "#Statement5"
   ]
  },
  {
   "cell_type": "code",
   "execution_count": 9,
   "id": "1e9ad1c0",
   "metadata": {},
   "outputs": [
    {
     "name": "stdout",
     "output_type": "stream",
     "text": [
      "s\n",
      "t\n",
      "r\n",
      "The end\n"
     ]
    }
   ],
   "source": [
    "for val in \"string\" :\n",
    "    if val == \"i\" :\n",
    "        break\n",
    "    print(val)\n",
    "print( \"The end\" )"
   ]
  },
  {
   "cell_type": "markdown",
   "id": "e3afe16a",
   "metadata": {},
   "source": [
    "#### continue Statement :\n",
    "The continue statement jumps out of the current iteration and forces the next iteration of the loop to take place."
   ]
  },
  {
   "cell_type": "code",
   "execution_count": null,
   "id": "3f881b29",
   "metadata": {},
   "outputs": [],
   "source": [
    "while <Expression/Condition/Statement>:\n",
    "    #Statement1\n",
    "    if <condition1>:\n",
    "        continue\n",
    "    #Statement2\n",
    "    #Statement3\n",
    "#Statement4: This statement is executed if it breaks out of the loop\n",
    "#Statement5"
   ]
  },
  {
   "cell_type": "code",
   "execution_count": 10,
   "id": "132dad81",
   "metadata": {},
   "outputs": [
    {
     "name": "stdout",
     "output_type": "stream",
     "text": [
      "s\n",
      "t\n",
      "r\n",
      "n\n",
      "g\n",
      "The end\n"
     ]
    }
   ],
   "source": [
    "for val in \"string\" :\n",
    "    if val == \"i\" :\n",
    "        continue\n",
    "    print(val)\n",
    "print( \"The end\" )"
   ]
  },
  {
   "cell_type": "markdown",
   "id": "cda43741",
   "metadata": {},
   "source": [
    "## pass statement : \n",
    "The pass statement is a null statement."
   ]
  },
  {
   "cell_type": "code",
   "execution_count": 14,
   "id": "3a5e7f90",
   "metadata": {},
   "outputs": [
    {
     "name": "stdout",
     "output_type": "stream",
     "text": [
      "Nothing is done\n"
     ]
    }
   ],
   "source": [
    "n=2\n",
    "if n == 2 :\n",
    "    pass #Pass statement: Nothing will happen\n",
    "else :\n",
    "    print ( \"Executed\" )\n",
    "\n",
    "print(\"Nothing is done\")"
   ]
  },
  {
   "cell_type": "markdown",
   "id": "f120186c",
   "metadata": {},
   "source": [
    "# Functions"
   ]
  },
  {
   "cell_type": "markdown",
   "id": "1b65e4e6",
   "metadata": {},
   "source": [
    "A Function is a sequence of statements/instructions that performs a particular task.\n",
    "A function is like a black box that can take certain input(s) as its parameters and\n",
    "can output a value after performing a few operations on the parameters. A function\n",
    "is created so that one can use a block of code as many times as needed just by\n",
    "using the name of the function."
   ]
  },
  {
   "cell_type": "markdown",
   "id": "53201ad8",
   "metadata": {},
   "source": [
    "### Why Do We Need Functions?"
   ]
  },
  {
   "cell_type": "markdown",
   "id": "d8f5ee1e",
   "metadata": {},
   "source": [
    "+ Reusability\n",
    "+ Neat code\n",
    "+ Modularisation\n",
    "+ Easy debugging"
   ]
  },
  {
   "cell_type": "markdown",
   "id": "793d651f",
   "metadata": {},
   "source": [
    "#### Syntax\n",
    "def function_name(parameter)  \n",
    "statement"
   ]
  },
  {
   "cell_type": "markdown",
   "id": "e98664cb",
   "metadata": {},
   "source": [
    "● Once you have defined a function, you can call it from another function, program, or even the Python prompt. To use a function that has been defined earlier, you need to write a function call.    \n",
    "● **Arguments**: The values being passed to the function from the function call  \n",
    "statement are called arguments. Eg. 5 and 7 are arguments to the add()\n",
    "function.  \n",
    "● **Parameters**: The values received by the function as inputs are called parameters. Eg. a and b are the parameters of the add() function.  "
   ]
  },
  {
   "cell_type": "markdown",
   "id": "a5e7ca6b",
   "metadata": {},
   "source": [
    "## Types Of Functions\n",
    "1.**User-defined functions:** Functions that are defined by the users. Eg. The add() function we created.  \n",
    "2.**Inbuilt Functions:** Functions that are inbuilt in python. Eg. The print() function."
   ]
  },
  {
   "cell_type": "markdown",
   "id": "c15433c4",
   "metadata": {},
   "source": [
    "## Variable scope\n",
    "**Global Scope**\n",
    "A variable/name declared in the top-level segment ( __main__ ) of a program is said to have a global scope and is usable inside the whole program (Can be accessed from anywhere in the program).  \n",
    "  \n",
    "In Python, a variable declared outside a function is known as a global variable. This means that a global variable can be accessed from inside or outside of the function.  \n",
    "  \n",
    "**Local Scope**  \n",
    "Variables that are defined inside a function body have a local scope. This means that local variables can be accessed only inside the function in which they are declared.  "
   ]
  },
  {
   "cell_type": "markdown",
   "id": "d397e928",
   "metadata": {},
   "source": [
    "### The Lifetime of a Variable\n",
    "The lifetime of a variable is the time for which the variable exists in the memory.  \n",
    "● The lifetime of a Global variable is the entire program run (i.e. they live in the memory as long as the program is being executed).  \n",
    "● The lifetime of a Local variable is their function’s run (i.e. as long as their function is being executed).  "
   ]
  },
  {
   "cell_type": "code",
   "execution_count": 19,
   "id": "b3e9910e",
   "metadata": {},
   "outputs": [
    {
     "name": "stdout",
     "output_type": "stream",
     "text": [
      "6\n"
     ]
    }
   ],
   "source": [
    "def factorial(n):\n",
    "    if(n==0 or n==1):\n",
    "        return 1;\n",
    "    else:\n",
    "        return n*factorial(n-1)\n",
    "        \n",
    "print(factorial(3))    "
   ]
  },
  {
   "cell_type": "markdown",
   "id": "8fb256ee",
   "metadata": {},
   "source": [
    "## Python Default Parameters"
   ]
  },
  {
   "cell_type": "markdown",
   "id": "8f68f815",
   "metadata": {},
   "source": [
    "● Any number of parameters in a function can have a default value.  \n",
    "● The conventional syntax for using default parameters states that once we have passed a default parameter, all the parameters to its right must also have default values.  \n",
    "● In other words, non-default parameters cannot follow default parameters."
   ]
  },
  {
   "cell_type": "code",
   "execution_count": 16,
   "id": "62b5b0f0",
   "metadata": {},
   "outputs": [
    {
     "name": "stdout",
     "output_type": "stream",
     "text": [
      "Hello Rohan, Happy Birthday\n",
      "Hello Hardik, Happy New Year\n"
     ]
    }
   ],
   "source": [
    "def wish (name, wish= \"Happy Birthday\" ):\n",
    "    \"\"\"This function wishes the person with the provided message. If the message is not provided, it defaults to \"Happy Birthday\" \"\"\"\n",
    "    print( \"Hello\" , name + ', ' + wish)\n",
    "wish( \"Rohan\" )\n",
    "wish( \"Hardik\" , \"Happy New Year\" )"
   ]
  },
  {
   "cell_type": "markdown",
   "id": "53eca476",
   "metadata": {},
   "source": [
    "# Lists\n",
    "A list is a standard data type of Python that can store a sequence of values belonging to any type. The Lists are contained within square brackets ( [ ] ).\n",
    "Following are some examples of lists in Python:"
   ]
  },
  {
   "cell_type": "code",
   "execution_count": null,
   "id": "8a72d1ff",
   "metadata": {},
   "outputs": [],
   "source": [
    "[ ] #Empty list\n",
    "[ 1 , 2 , 3 ] #List of integers\n",
    "[ 1 , 2 , 5.6 , 9.8 ] #List of numbers (Floating point and Integers)\n",
    "[ 'a' , 'b' , 'c' ] #List of characters\n",
    "[ 'a' , 1 , 4.3 , \"Zero\" ] #List of mixed data types\n",
    "[ \"One\" , \"Two\" , \"Three\" ] #List of strings"
   ]
  },
  {
   "cell_type": "markdown",
   "id": "55f7a320",
   "metadata": {},
   "source": [
    "#### Creating Lists\n",
    "In Python programming, a list is created by placing all the items (elements) inside square brackets [ ] , separated by commas.  \n",
    "It can have any number of items and they may be of different types (integer, float,string etc.).  "
   ]
  },
  {
   "cell_type": "code",
   "execution_count": null,
   "id": "25cd7f02",
   "metadata": {},
   "outputs": [],
   "source": [
    "list1 = [] #Empty list\n",
    "list2 = [ 1 , 2 , 3 ] #List of integers\n",
    "list3 = [ 1 , \"One\" , 3.4 ] #List with mixed data types"
   ]
  },
  {
   "cell_type": "markdown",
   "id": "4d725363",
   "metadata": {},
   "source": [
    "+ A list can also have another list as an element. Such a list is called a Nested List ."
   ]
  },
  {
   "cell_type": "code",
   "execution_count": null,
   "id": "4dfad298",
   "metadata": {},
   "outputs": [],
   "source": [
    "list4 = [ \"One\" , [ 8 , 4 , 6 ], [ 'Three' ]] #Nested List"
   ]
  },
  {
   "cell_type": "markdown",
   "id": "f8e7191e",
   "metadata": {},
   "source": [
    "### Operations On Lists\n",
    "##### Accessing Elements in a List List  \n",
    "indices start at 0 and go on till 1 less than the length of the list.   We can use the index operator [ ] to access a particular item in a list.  \n",
    "Note : Trying to access indexes out of the range ( 0 ,lengthOfList- 1 ) , will raise an IndexError . Also, the index must be a integer. We can't use float or other types, this will result in TypeError .  "
   ]
  },
  {
   "cell_type": "code",
   "execution_count": 25,
   "id": "8063f809",
   "metadata": {},
   "outputs": [
    {
     "name": "stdout",
     "output_type": "stream",
     "text": [
      "Mother\n",
      "Daughter\n",
      "23\n",
      "23\n"
     ]
    }
   ],
   "source": [
    "l1 = [ 'Mother' , 'Father' , 'Daughter' , 10 , 23 ]\n",
    "print(l1[ 0 ]) #Output: 'Mother'\n",
    "print(l1[ 2 ]) #Output: 'Daughter'\n",
    "print(l1[ 4 ]) #Output: 23\n",
    "print(l1[ -1 ])"
   ]
  },
  {
   "cell_type": "markdown",
   "id": "2f29281b",
   "metadata": {},
   "source": [
    "### Negative Indexing"
   ]
  },
  {
   "cell_type": "code",
   "execution_count": 24,
   "id": "c6de36a3",
   "metadata": {},
   "outputs": [
    {
     "name": "stdout",
     "output_type": "stream",
     "text": [
      "['Mother', 'Father', 'Daughter', 12, 'Daughter']\n"
     ]
    }
   ],
   "source": [
    "l1 = [ 'Mother' , 'Father' , 'Daughter' , 10 , 23 ]\n",
    "l1[ -1 ] = \"Daughter\" #Changing the last element to \"Daughter\"\n",
    "l1[ 3 ] = 12 #Changing the element at index 3 to 12\n",
    "print(l1)"
   ]
  },
  {
   "cell_type": "markdown",
   "id": "f07fdac9",
   "metadata": {},
   "source": [
    "### Concatenation of Lists\n",
    "Joining or concatenating two list in Python is very easy. The concatenation operator ( + ), can be used to join two lists. Consider the example given below:"
   ]
  },
  {
   "cell_type": "code",
   "execution_count": 26,
   "id": "204f1876",
   "metadata": {},
   "outputs": [
    {
     "name": "stdout",
     "output_type": "stream",
     "text": [
      "[1, 2, 3, 3, 4, 5]\n"
     ]
    }
   ],
   "source": [
    "l1= [ 1 , 2 , 3 ] #First List\n",
    "l2= [ 3 , 4 , 5 ] #Second List\n",
    "l3= l1+l2 #Concatenating both to get a new list\n",
    "print(l3)"
   ]
  },
  {
   "cell_type": "markdown",
   "id": "85914e9c",
   "metadata": {},
   "source": [
    "#### Repeating/Replicating Lists\n",
    "Like strings, you can use * operator to replicate a list specified number of times.Consider the example given below"
   ]
  },
  {
   "cell_type": "code",
   "execution_count": 28,
   "id": "db4a6879",
   "metadata": {},
   "outputs": [
    {
     "name": "stdout",
     "output_type": "stream",
     "text": [
      "[1, 2, 10, 23, 1, 2, 10, 23, 1, 2, 10, 23]\n"
     ]
    }
   ],
   "source": [
    "l1 = [ 1 , 2 , 10 , 23 ]\n",
    "print(l1* 3 )"
   ]
  },
  {
   "cell_type": "markdown",
   "id": "13da6921",
   "metadata": {},
   "source": [
    "#### List Slicing\n",
    "List slicing refers to accessing a specific portion or a subset of a list while the original list remains unaffected. You can use indexes of list elements to create list slices as per the following syntax:\n",
    "slice= List Name[StartIndex : StopIndex : Steps ]"
   ]
  },
  {
   "cell_type": "code",
   "execution_count": 35,
   "id": "c54a5d83",
   "metadata": {},
   "outputs": [
    {
     "name": "stdout",
     "output_type": "stream",
     "text": [
      "['c', 'd', 'e', 'f', 'g']\n",
      "['c', 'd', 'e', 'f', 'g', 'h']\n"
     ]
    }
   ],
   "source": [
    "L = [ 'a' , 'b' , 'c' , 'd' , 'e' , 'f' , 'g' , 'h' , 'i' ]\n",
    "print(L[ 2 : 7 ])\n",
    "print(L[ -7 : -1 ])"
   ]
  },
  {
   "cell_type": "code",
   "execution_count": 37,
   "id": "24432cb6",
   "metadata": {},
   "outputs": [
    {
     "name": "stdout",
     "output_type": "stream",
     "text": [
      "['b', 'd', 'f']\n"
     ]
    }
   ],
   "source": [
    "# Print every 2nd item between position 2 to 7\n",
    "L = [ 'a' , 'b' , 'c' , 'd' , 'e' , 'f' , 'g' , 'h' , 'i' ]\n",
    "print(L[ 1 : 7 : 2 ])"
   ]
  },
  {
   "cell_type": "code",
   "execution_count": 38,
   "id": "e22b88c5",
   "metadata": {},
   "outputs": [
    {
     "name": "stdout",
     "output_type": "stream",
     "text": [
      "['g', 'e', 'c']\n"
     ]
    }
   ],
   "source": [
    "# Print every 2nd item between position 6 to 1\n",
    "L = [ 'a' , 'b' , 'c' , 'd' , 'e' , 'f' , 'g' , 'h' , 'i' ]\n",
    "print(L[ 6 : 1 : -2 ])"
   ]
  },
  {
   "cell_type": "code",
   "execution_count": 39,
   "id": "546825d3",
   "metadata": {},
   "outputs": [
    {
     "name": "stdout",
     "output_type": "stream",
     "text": [
      "['a', 'b', 'c']\n"
     ]
    }
   ],
   "source": [
    "# Slice the first three items from the list\n",
    "L = [ 'a' , 'b' , 'c' , 'd' , 'e' , 'f' , 'g' , 'h' , 'i' ]\n",
    "print(L[: 3 ])"
   ]
  },
  {
   "cell_type": "code",
   "execution_count": 40,
   "id": "d1608e6b",
   "metadata": {},
   "outputs": [
    {
     "name": "stdout",
     "output_type": "stream",
     "text": [
      "['g', 'h', 'i']\n"
     ]
    }
   ],
   "source": [
    "# Slice the last three items from the list\n",
    "L = [ 'a' , 'b' , 'c' , 'd' , 'e' , 'f' , 'g' , 'h' , 'i' ]\n",
    "print(L[ 6 :])"
   ]
  },
  {
   "cell_type": "markdown",
   "id": "b9a6e405",
   "metadata": {},
   "source": [
    "#### Reversing a List  \n",
    "You can reverse a list by omitting both StartIndex and StopIndex and specifying steps as -1.  "
   ]
  },
  {
   "cell_type": "code",
   "execution_count": 41,
   "id": "dc55f77d",
   "metadata": {},
   "outputs": [
    {
     "name": "stdout",
     "output_type": "stream",
     "text": [
      "['e', 'd', 'c', 'b', 'a']\n"
     ]
    }
   ],
   "source": [
    "L = [ 'a' , 'b' , 'c' , 'd' , 'e' ]\n",
    "print(L[:: -1 ])"
   ]
  },
  {
   "cell_type": "markdown",
   "id": "38bb79c8",
   "metadata": {},
   "source": [
    "#### List Methods\n",
    "append() : Used for appending/adding elements at the end of a list.  \n",
    "Syntax: ListName.append(element)"
   ]
  },
  {
   "cell_type": "code",
   "execution_count": 44,
   "id": "4e2abc45",
   "metadata": {},
   "outputs": [
    {
     "data": {
      "text/plain": [
       "[1, 2, 3, 4, 5, 6, 7, 8]"
      ]
     },
     "execution_count": 44,
     "metadata": {},
     "output_type": "execute_result"
    }
   ],
   "source": [
    "l1=[ 1 , 2 , 3 , 4 ]\n",
    "l2=[ 5 , 6 , 7 , 8 ]\n",
    "l1.extend(l2) #Adds contents of l2 to l1 at the end\n",
    "l1"
   ]
  },
  {
   "cell_type": "markdown",
   "id": "6d1653da",
   "metadata": {},
   "source": [
    "** .append() vs .extend() :\n",
    "The only difference between .append() and .extend() is that, the .append() method adds an element at the back of a given list (appends an element at the end of a list).  \n",
    "On the other hand, the .extend() method adds the contents of another list at the end of the given list i.e. it merges two lists (extends the given list). See the examples given above for better clarity.  \n",
    "  \n",
    "**insert()** : Inserts an element at a specified position/index in a list.  \n",
    "**Syntax:** ListName(position, element)"
   ]
  },
  {
   "cell_type": "code",
   "execution_count": 45,
   "id": "3607aced",
   "metadata": {},
   "outputs": [
    {
     "data": {
      "text/plain": [
       "[1, 2, 5, 3, 4]"
      ]
     },
     "execution_count": 45,
     "metadata": {},
     "output_type": "execute_result"
    }
   ],
   "source": [
    "li=[ 1 , 2 , 3 , 4 ]\n",
    "li.insert( 2 , 5 ) #Insert 5 at the index no. 2\n",
    "li"
   ]
  },
  {
   "cell_type": "markdown",
   "id": "aa1de1fe",
   "metadata": {},
   "source": [
    "**sum()** : Returns the sum of all the elements of a List. (Used only for lists containing numerical values)  \n",
    "**Syntax:** sum(ListName)  "
   ]
  },
  {
   "cell_type": "code",
   "execution_count": 46,
   "id": "a1f230e8",
   "metadata": {},
   "outputs": [
    {
     "data": {
      "text/plain": [
       "10"
      ]
     },
     "execution_count": 46,
     "metadata": {},
     "output_type": "execute_result"
    }
   ],
   "source": [
    "l1=[ 1 , 2 , 3 , 4 ]\n",
    "sum1= sum(l1) #Finds the sum of all elements in l1\n",
    "sum1"
   ]
  },
  {
   "cell_type": "markdown",
   "id": "04eff9e1",
   "metadata": {},
   "source": [
    "**count()** : Returns the total number of times a given element occurs in a List.  \n",
    "**Syntax:** ListName.count(element)"
   ]
  },
  {
   "cell_type": "code",
   "execution_count": 47,
   "id": "1cc644b8",
   "metadata": {},
   "outputs": [
    {
     "data": {
      "text/plain": [
       "4"
      ]
     },
     "execution_count": 47,
     "metadata": {},
     "output_type": "execute_result"
    }
   ],
   "source": [
    "l1=[ 1 , 2 , 3 , 4 , 4 , 3 , 5 , 4 , 4 , 2 ]\n",
    "c= l1.count( 4 ) #Number of times 4 occurs in the list\n",
    "c"
   ]
  },
  {
   "cell_type": "markdown",
   "id": "1910e70e",
   "metadata": {},
   "source": [
    "**len()** : Returns the total length of a List.  \n",
    "**Syntax:** len(ListName)"
   ]
  },
  {
   "cell_type": "code",
   "execution_count": 1,
   "id": "df7bead5",
   "metadata": {},
   "outputs": [
    {
     "data": {
      "text/plain": [
       "5"
      ]
     },
     "execution_count": 1,
     "metadata": {},
     "output_type": "execute_result"
    }
   ],
   "source": [
    "l1=[ 1 , 2 , 3 , 4 , 5 ]\n",
    "len(l1)"
   ]
  },
  {
   "cell_type": "markdown",
   "id": "e7bcaf82",
   "metadata": {},
   "source": [
    "**index()** : Returns the index of first occurrence of an element in a list. If element is not present, it returns -1.  \n",
    "**Syntax:** ListName.index(element)"
   ]
  },
  {
   "cell_type": "code",
   "execution_count": 2,
   "id": "6ffe500c",
   "metadata": {},
   "outputs": [
    {
     "data": {
      "text/plain": [
       "2"
      ]
     },
     "execution_count": 2,
     "metadata": {},
     "output_type": "execute_result"
    }
   ],
   "source": [
    "l1=[ 1 , 2 , 3 , 4 ]\n",
    "l1.index( 3 )"
   ]
  },
  {
   "cell_type": "markdown",
   "id": "93b3c3b5",
   "metadata": {},
   "source": [
    "**min()** : Returns the minimum element in a List .  \n",
    "**Syntax:** min(ListName)"
   ]
  },
  {
   "cell_type": "code",
   "execution_count": 49,
   "id": "80a26f3a",
   "metadata": {},
   "outputs": [
    {
     "data": {
      "text/plain": [
       "2"
      ]
     },
     "execution_count": 49,
     "metadata": {},
     "output_type": "execute_result"
    }
   ],
   "source": [
    "l1=[ 11 , 2 , 3 , 4 ]\n",
    "min(l1)"
   ]
  },
  {
   "cell_type": "markdown",
   "id": "37662242",
   "metadata": {},
   "source": [
    "**max()** : Returns the maximum element in a List.  \n",
    "**Syntax:** max(<ListName>)"
   ]
  },
  {
   "cell_type": "code",
   "execution_count": 50,
   "id": "d4c96bf2",
   "metadata": {},
   "outputs": [
    {
     "data": {
      "text/plain": [
       "[1, 1, 3]"
      ]
     },
     "execution_count": 50,
     "metadata": {},
     "output_type": "execute_result"
    }
   ],
   "source": [
    "l1=[ 1 , 1 , 12 , 3 ]\n",
    "del l1[ 2 ]\n",
    "l1"
   ]
  },
  {
   "cell_type": "markdown",
   "id": "da28f927",
   "metadata": {},
   "source": [
    "**pop()** : It deletes and returns the element at the specified index. If we don't mention the index, it by default pops the last element in the list.  \n",
    "**Syntax**: ListName.pop(index)"
   ]
  },
  {
   "cell_type": "code",
   "execution_count": 3,
   "id": "875e07b4",
   "metadata": {},
   "outputs": [
    {
     "name": "stdout",
     "output_type": "stream",
     "text": [
      "3\n",
      "[1, 2, 4]\n"
     ]
    }
   ],
   "source": [
    "l1=[1,2,3,4]\n",
    "poppedElement=l1.pop(2)\n",
    "print(poppedElement)\n",
    "print(l1)"
   ]
  },
  {
   "cell_type": "markdown",
   "id": "3935e3ac",
   "metadata": {},
   "source": [
    "**del()** : Element to be deleted is mentioned using list name and index.  \n",
    "**Syntax:** del ListName[index]"
   ]
  },
  {
   "cell_type": "code",
   "execution_count": 4,
   "id": "2578e521",
   "metadata": {},
   "outputs": [
    {
     "data": {
      "text/plain": [
       "[1, 1, 3]"
      ]
     },
     "execution_count": 4,
     "metadata": {},
     "output_type": "execute_result"
    }
   ],
   "source": [
    "l1=[ 1 , 1 , 12 , 3 ]\n",
    "del l1[ 2 ]\n",
    "l1"
   ]
  },
  {
   "cell_type": "markdown",
   "id": "ad3a5f55",
   "metadata": {},
   "source": [
    "**remove()** : Element to be deleted is mentioned using list name and element.  \n",
    "**Syntax:** ListName.remove(element)"
   ]
  },
  {
   "cell_type": "code",
   "execution_count": 51,
   "id": "a9feada6",
   "metadata": {},
   "outputs": [
    {
     "data": {
      "text/plain": [
       "[1, 1, 3]"
      ]
     },
     "execution_count": 51,
     "metadata": {},
     "output_type": "execute_result"
    }
   ],
   "source": [
    "l1=[ 1 , 1 , 12 , 3 ]\n",
    "l1.remove( 12 )\n",
    "l1"
   ]
  },
  {
   "cell_type": "markdown",
   "id": "ac5727c6",
   "metadata": {},
   "source": [
    "# Looping On Lists\n",
    "There are multiple ways to iterate over a list in Python.  \n",
    "### Using for loop"
   ]
  },
  {
   "cell_type": "code",
   "execution_count": 52,
   "id": "5b334c00",
   "metadata": {},
   "outputs": [
    {
     "name": "stdout",
     "output_type": "stream",
     "text": [
      "1\n",
      "3\n",
      "5\n",
      "7\n",
      "9\n"
     ]
    }
   ],
   "source": [
    "li = [ 1 , 3 , 5 , 7 , 9 ]\n",
    "# Using for loop\n",
    "for i in li:\n",
    "    print(i) #Print the element in the list"
   ]
  },
  {
   "cell_type": "markdown",
   "id": "6ed55331",
   "metadata": {},
   "source": [
    "## Using for loop and range()"
   ]
  },
  {
   "cell_type": "code",
   "execution_count": 53,
   "id": "78ea6e8f",
   "metadata": {},
   "outputs": [
    {
     "name": "stdout",
     "output_type": "stream",
     "text": [
      "0\n",
      "1\n",
      "2\n",
      "3\n",
      "4\n"
     ]
    }
   ],
   "source": [
    "list = [ 1 , 3 , 5 , 7 , 9 ]\n",
    "length = len(list) #Getting the length of the list\n",
    "for i in range(length): #Iterations from 0 to (length-1)\n",
    "    print(i)"
   ]
  },
  {
   "cell_type": "markdown",
   "id": "68dfcb29",
   "metadata": {},
   "source": [
    "# Taking Lists as User Inputs\n",
    "There are two common ways to take lists as user inputs. These are:  \n",
    "● Space Separated Input of Lists  \n",
    "● Line Separated Input of Lists  "
   ]
  },
  {
   "cell_type": "markdown",
   "id": "1536febb",
   "metadata": {},
   "source": [
    "### Line Separated Input Of List"
   ]
  },
  {
   "cell_type": "markdown",
   "id": "707fe7b6",
   "metadata": {},
   "source": [
    "The way to take line separated input of a list is described below:    \n",
    "● Create an empty list.  \n",
    "● Let the number of elements you wish to put in the list be N.  \n",
    "● Run a loop for N iterations and during these N iterations do the following:  \n",
    "○ Take an element as user input using the input() function.  \n",
    "○ Append this element to the list we created.  \n",
    "● At the end of N iterations, you would have appended N desired elements to your list.  \n",
    "● In this, different elements will have to be entered by the user in different lines.  "
   ]
  },
  {
   "cell_type": "code",
   "execution_count": 7,
   "id": "f3d5469b",
   "metadata": {},
   "outputs": [
    {
     "name": "stdout",
     "output_type": "stream",
     "text": [
      "3\n",
      "4\n",
      "5\n",
      "6\n",
      "7\n",
      "[3, 4, 5, 6, 7]\n"
     ]
    }
   ],
   "source": [
    "li=[] #Create empty list\n",
    "for i in range( 5 ): #Run the loop 5 times\n",
    "    a=int(input()) #Take user input\n",
    "    li.append(a) #Append it to the list\n",
    "print(li) #Print the list"
   ]
  },
  {
   "cell_type": "markdown",
   "id": "c9d83f96",
   "metadata": {},
   "source": [
    "### Space Separated Input Of List\n",
    "in Python, a user can take multiple values or inputs in one line by two methods.  \n",
    "● Using split() method  \n",
    "● Using List comprehension  "
   ]
  },
  {
   "cell_type": "markdown",
   "id": "b775524f",
   "metadata": {},
   "source": [
    "#### Using split() method\n",
    "This function helps in taking multiple inputs from the user in a single line . It breaks the given input by the specified separator. If a separator is not provided then anywhite space is treated as a separator.  \n",
    "  \n",
    "**Note** : The split() method is generally used to split a string.  \n",
    "**Syntax :** input().split(separator) #separator is optional  "
   ]
  },
  {
   "cell_type": "code",
   "execution_count": 9,
   "id": "385b3929",
   "metadata": {},
   "outputs": [
    {
     "name": "stdout",
     "output_type": "stream",
     "text": [
      "1 2 3 4 5\n",
      "['1', '2', '3', '4', '5']\n"
     ]
    }
   ],
   "source": [
    "a= input().split() #User inputs the data (space separated input)\n",
    "print(a)"
   ]
  },
  {
   "cell_type": "code",
   "execution_count": 12,
   "id": "0cc8373e",
   "metadata": {},
   "outputs": [
    {
     "name": "stdout",
     "output_type": "stream",
     "text": [
      "1,2,3,4,5\n",
      "['1', '2', '3', '4', '5']\n"
     ]
    }
   ],
   "source": [
    "a= input().split( \",\" ) #User inputs the data (space separated input)\n",
    "print(a)"
   ]
  },
  {
   "cell_type": "markdown",
   "id": "514dd14a",
   "metadata": {},
   "source": [
    "## Using List Comprehension\n",
    "List comprehension is an elegant way to define and create a list in Python. We can create lists just like mathematical statements in one line only.  \n",
    "  \n",
    "A common syntax to take input using list comprehension is given below.  \n",
    "inputList= [int(x) for x in input().split()]  "
   ]
  },
  {
   "cell_type": "code",
   "execution_count": 13,
   "id": "1928717f",
   "metadata": {},
   "outputs": [
    {
     "name": "stdout",
     "output_type": "stream",
     "text": [
      "1 2 3 4 5 6 7\n",
      "[1, 2, 3, 4, 5, 6, 7]\n"
     ]
    }
   ],
   "source": [
    "li= [int(x) for x in input().split()]\n",
    "print(li)\n",
    "#User inputs the data (space separated input)\n",
    "#List has integers"
   ]
  },
  {
   "cell_type": "markdown",
   "id": "a71873f2",
   "metadata": {},
   "source": [
    "Here, In[ 1 ] typecasts x in the list input().split() to an integer and then makes a list out of all these x ’s."
   ]
  },
  {
   "cell_type": "code",
   "execution_count": null,
   "id": "d6202764",
   "metadata": {},
   "outputs": [],
   "source": []
  },
  {
   "cell_type": "code",
   "execution_count": null,
   "id": "0d0c1d22",
   "metadata": {},
   "outputs": [],
   "source": []
  }
 ],
 "metadata": {
  "kernelspec": {
   "display_name": "Python 3",
   "language": "python",
   "name": "python3"
  },
  "language_info": {
   "codemirror_mode": {
    "name": "ipython",
    "version": 3
   },
   "file_extension": ".py",
   "mimetype": "text/x-python",
   "name": "python",
   "nbconvert_exporter": "python",
   "pygments_lexer": "ipython3",
   "version": "3.8.8"
  }
 },
 "nbformat": 4,
 "nbformat_minor": 5
}
