{
 "cells": [
  {
   "cell_type": "markdown",
   "id": "695618ec",
   "metadata": {},
   "source": [
    "+ Print fuction\n",
    "+ \\n\n",
    "+ len function\n",
    "+ string concatenating"
   ]
  },
  {
   "cell_type": "code",
   "execution_count": 1,
   "id": "be6b26e8",
   "metadata": {},
   "outputs": [
    {
     "name": "stdout",
     "output_type": "stream",
     "text": [
      "print('my name is anchal singh')\n"
     ]
    }
   ],
   "source": [
    "print(\"print('my name is anchal singh')\")"
   ]
  },
  {
   "cell_type": "code",
   "execution_count": 2,
   "id": "578e9870",
   "metadata": {},
   "outputs": [
    {
     "name": "stdout",
     "output_type": "stream",
     "text": [
      "my name is \"anchal\" singh \n"
     ]
    }
   ],
   "source": [
    "print('my name is \"anchal\" singh ')"
   ]
  },
  {
   "cell_type": "code",
   "execution_count": 4,
   "id": "9f9c8b6c",
   "metadata": {},
   "outputs": [
    {
     "name": "stdout",
     "output_type": "stream",
     "text": [
      "Enter your name?Anchal \n",
      "Hello! Anchal \n"
     ]
    }
   ],
   "source": [
    "print(\"Hello! \"+ input(\"Enter your name?\"))"
   ]
  },
  {
   "cell_type": "code",
   "execution_count": 5,
   "id": "c9c7a7c9",
   "metadata": {},
   "outputs": [
    {
     "name": "stdout",
     "output_type": "stream",
     "text": [
      "Day 1 - String Manipulation\n",
      "String Concatenation is done with the \"+\" sign.\n",
      "e.g. print(\"Hello \" + \"world\")\n",
      "New lines can be created with a backslash and n.\n"
     ]
    }
   ],
   "source": [
    "print(\"Day 1 - String Manipulation\")\n",
    "\n",
    "print('String Concatenation is done with the \"+\" sign.')\n",
    "\n",
    "print('e.g. print(\"Hello \" + \"world\")')\n",
    "\n",
    "print(\"New lines can be created with a backslash and n.\")"
   ]
  },
  {
   "cell_type": "code",
   "execution_count": 6,
   "id": "7ed0bba3",
   "metadata": {},
   "outputs": [
    {
     "name": "stdout",
     "output_type": "stream",
     "text": [
      "Enter your name?anchal\n",
      "6\n"
     ]
    }
   ],
   "source": [
    "print(len(input(\"Enter your name?\")))"
   ]
  },
  {
   "cell_type": "markdown",
   "id": "6ebb3943",
   "metadata": {},
   "source": [
    "### Swapping value in python\n"
   ]
  },
  {
   "cell_type": "code",
   "execution_count": 10,
   "id": "715af282",
   "metadata": {},
   "outputs": [
    {
     "name": "stdout",
     "output_type": "stream",
     "text": [
      "a: 7\n",
      "b: 8\n",
      "a: 8\n",
      "b: 7\n"
     ]
    }
   ],
   "source": [
    "a = input(\"a: \")\n",
    "b = input(\"b: \")\n",
    "a,b=b,a\n",
    "print(\"a: \" + a)\n",
    "print(\"b: \" + b)"
   ]
  },
  {
   "cell_type": "markdown",
   "id": "f43b7972",
   "metadata": {},
   "source": [
    "### Day 1 project \n",
    "## Band Name Generator"
   ]
  },
  {
   "cell_type": "code",
   "execution_count": 12,
   "id": "50c0c69f",
   "metadata": {},
   "outputs": [
    {
     "name": "stdout",
     "output_type": "stream",
     "text": [
      "Welcome to the Band Name Genertor.\n",
      "What's name of the city you grew up in?\n",
      "Gorakhpur\n",
      "What's your pet's name?\n",
      "Rabbit\n",
      "Your band name could be Gorakhpur Rabbit\n"
     ]
    }
   ],
   "source": [
    "print(\"Welcome to the Band Name Genertor.\")\n",
    "city=input(\"What's name of the city you grew up in?\\n\")\n",
    "pet=input(\"What's your pet's name?\\n\")\n",
    "print(\"Your band name could be \"+city+\" \"+pet)"
   ]
  },
  {
   "cell_type": "code",
   "execution_count": null,
   "id": "d27ae59b",
   "metadata": {},
   "outputs": [],
   "source": []
  }
 ],
 "metadata": {
  "kernelspec": {
   "display_name": "Python 3",
   "language": "python",
   "name": "python3"
  },
  "language_info": {
   "codemirror_mode": {
    "name": "ipython",
    "version": 3
   },
   "file_extension": ".py",
   "mimetype": "text/x-python",
   "name": "python",
   "nbconvert_exporter": "python",
   "pygments_lexer": "ipython3",
   "version": "3.8.8"
  }
 },
 "nbformat": 4,
 "nbformat_minor": 5
}
